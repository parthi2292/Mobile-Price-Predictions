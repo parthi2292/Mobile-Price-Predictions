{
 "cells": [
  {
   "cell_type": "markdown",
   "id": "28f827de",
   "metadata": {},
   "source": [
    "# Mobile price predicition \n",
    "\n",
    "The Problem\n",
    "The data contains information regarding mobile phone features, specifications etc and their price range. The various features and information can be used to predict the price range of a mobile phone."
   ]
  },
  {
   "cell_type": "code",
   "execution_count": 1,
   "id": "bff21278",
   "metadata": {},
   "outputs": [],
   "source": [
    "import numpy as np\n",
    "import pandas as pd\n",
    "import matplotlib.pyplot as plt\n",
    "%matplotlib inline\n",
    "import seaborn as sns\n",
    "import math\n",
    "import warnings\n",
    "warnings.filterwarnings(\"ignore\")\n",
    "from sklearn.linear_model import LinearRegression"
   ]
  },
  {
   "cell_type": "code",
   "execution_count": 2,
   "id": "4ea9fff6",
   "metadata": {},
   "outputs": [
    {
     "data": {
      "text/html": [
       "<div>\n",
       "<style scoped>\n",
       "    .dataframe tbody tr th:only-of-type {\n",
       "        vertical-align: middle;\n",
       "    }\n",
       "\n",
       "    .dataframe tbody tr th {\n",
       "        vertical-align: top;\n",
       "    }\n",
       "\n",
       "    .dataframe thead th {\n",
       "        text-align: right;\n",
       "    }\n",
       "</style>\n",
       "<table border=\"1\" class=\"dataframe\">\n",
       "  <thead>\n",
       "    <tr style=\"text-align: right;\">\n",
       "      <th></th>\n",
       "      <th>battery_power</th>\n",
       "      <th>blue</th>\n",
       "      <th>clock_speed</th>\n",
       "      <th>dual_sim</th>\n",
       "      <th>fc</th>\n",
       "      <th>four_g</th>\n",
       "      <th>int_memory</th>\n",
       "      <th>m_dep</th>\n",
       "      <th>mobile_wt</th>\n",
       "      <th>n_cores</th>\n",
       "      <th>...</th>\n",
       "      <th>px_height</th>\n",
       "      <th>px_width</th>\n",
       "      <th>ram</th>\n",
       "      <th>sc_h</th>\n",
       "      <th>sc_w</th>\n",
       "      <th>talk_time</th>\n",
       "      <th>three_g</th>\n",
       "      <th>touch_screen</th>\n",
       "      <th>wifi</th>\n",
       "      <th>price_range</th>\n",
       "    </tr>\n",
       "  </thead>\n",
       "  <tbody>\n",
       "    <tr>\n",
       "      <th>0</th>\n",
       "      <td>842</td>\n",
       "      <td>0</td>\n",
       "      <td>2.2</td>\n",
       "      <td>0</td>\n",
       "      <td>1</td>\n",
       "      <td>0</td>\n",
       "      <td>7</td>\n",
       "      <td>0.6</td>\n",
       "      <td>188</td>\n",
       "      <td>2</td>\n",
       "      <td>...</td>\n",
       "      <td>20</td>\n",
       "      <td>756</td>\n",
       "      <td>2549</td>\n",
       "      <td>9</td>\n",
       "      <td>7</td>\n",
       "      <td>19</td>\n",
       "      <td>0</td>\n",
       "      <td>0</td>\n",
       "      <td>1</td>\n",
       "      <td>1</td>\n",
       "    </tr>\n",
       "    <tr>\n",
       "      <th>1</th>\n",
       "      <td>1021</td>\n",
       "      <td>1</td>\n",
       "      <td>0.5</td>\n",
       "      <td>1</td>\n",
       "      <td>0</td>\n",
       "      <td>1</td>\n",
       "      <td>53</td>\n",
       "      <td>0.7</td>\n",
       "      <td>136</td>\n",
       "      <td>3</td>\n",
       "      <td>...</td>\n",
       "      <td>905</td>\n",
       "      <td>1988</td>\n",
       "      <td>2631</td>\n",
       "      <td>17</td>\n",
       "      <td>3</td>\n",
       "      <td>7</td>\n",
       "      <td>1</td>\n",
       "      <td>1</td>\n",
       "      <td>0</td>\n",
       "      <td>2</td>\n",
       "    </tr>\n",
       "    <tr>\n",
       "      <th>2</th>\n",
       "      <td>563</td>\n",
       "      <td>1</td>\n",
       "      <td>0.5</td>\n",
       "      <td>1</td>\n",
       "      <td>2</td>\n",
       "      <td>1</td>\n",
       "      <td>41</td>\n",
       "      <td>0.9</td>\n",
       "      <td>145</td>\n",
       "      <td>5</td>\n",
       "      <td>...</td>\n",
       "      <td>1263</td>\n",
       "      <td>1716</td>\n",
       "      <td>2603</td>\n",
       "      <td>11</td>\n",
       "      <td>2</td>\n",
       "      <td>9</td>\n",
       "      <td>1</td>\n",
       "      <td>1</td>\n",
       "      <td>0</td>\n",
       "      <td>2</td>\n",
       "    </tr>\n",
       "    <tr>\n",
       "      <th>3</th>\n",
       "      <td>615</td>\n",
       "      <td>1</td>\n",
       "      <td>2.5</td>\n",
       "      <td>0</td>\n",
       "      <td>0</td>\n",
       "      <td>0</td>\n",
       "      <td>10</td>\n",
       "      <td>0.8</td>\n",
       "      <td>131</td>\n",
       "      <td>6</td>\n",
       "      <td>...</td>\n",
       "      <td>1216</td>\n",
       "      <td>1786</td>\n",
       "      <td>2769</td>\n",
       "      <td>16</td>\n",
       "      <td>8</td>\n",
       "      <td>11</td>\n",
       "      <td>1</td>\n",
       "      <td>0</td>\n",
       "      <td>0</td>\n",
       "      <td>2</td>\n",
       "    </tr>\n",
       "    <tr>\n",
       "      <th>4</th>\n",
       "      <td>1821</td>\n",
       "      <td>1</td>\n",
       "      <td>1.2</td>\n",
       "      <td>0</td>\n",
       "      <td>13</td>\n",
       "      <td>1</td>\n",
       "      <td>44</td>\n",
       "      <td>0.6</td>\n",
       "      <td>141</td>\n",
       "      <td>2</td>\n",
       "      <td>...</td>\n",
       "      <td>1208</td>\n",
       "      <td>1212</td>\n",
       "      <td>1411</td>\n",
       "      <td>8</td>\n",
       "      <td>2</td>\n",
       "      <td>15</td>\n",
       "      <td>1</td>\n",
       "      <td>1</td>\n",
       "      <td>0</td>\n",
       "      <td>1</td>\n",
       "    </tr>\n",
       "  </tbody>\n",
       "</table>\n",
       "<p>5 rows × 21 columns</p>\n",
       "</div>"
      ],
      "text/plain": [
       "   battery_power  blue  clock_speed  dual_sim  fc  four_g  int_memory  m_dep  \\\n",
       "0            842     0          2.2         0   1       0           7    0.6   \n",
       "1           1021     1          0.5         1   0       1          53    0.7   \n",
       "2            563     1          0.5         1   2       1          41    0.9   \n",
       "3            615     1          2.5         0   0       0          10    0.8   \n",
       "4           1821     1          1.2         0  13       1          44    0.6   \n",
       "\n",
       "   mobile_wt  n_cores  ...  px_height  px_width   ram  sc_h  sc_w  talk_time  \\\n",
       "0        188        2  ...         20       756  2549     9     7         19   \n",
       "1        136        3  ...        905      1988  2631    17     3          7   \n",
       "2        145        5  ...       1263      1716  2603    11     2          9   \n",
       "3        131        6  ...       1216      1786  2769    16     8         11   \n",
       "4        141        2  ...       1208      1212  1411     8     2         15   \n",
       "\n",
       "   three_g  touch_screen  wifi  price_range  \n",
       "0        0             0     1            1  \n",
       "1        1             1     0            2  \n",
       "2        1             1     0            2  \n",
       "3        1             0     0            2  \n",
       "4        1             1     0            1  \n",
       "\n",
       "[5 rows x 21 columns]"
      ]
     },
     "execution_count": 2,
     "metadata": {},
     "output_type": "execute_result"
    }
   ],
   "source": [
    "train_data = pd.read_csv('D:/Mobile price prediction/train.csv')\n",
    "train_data.head()"
   ]
  },
  {
   "cell_type": "code",
   "execution_count": 3,
   "id": "dece940d",
   "metadata": {},
   "outputs": [
    {
     "name": "stdout",
     "output_type": "stream",
     "text": [
      "<class 'pandas.core.frame.DataFrame'>\n",
      "RangeIndex: 2000 entries, 0 to 1999\n",
      "Data columns (total 21 columns):\n",
      " #   Column         Non-Null Count  Dtype  \n",
      "---  ------         --------------  -----  \n",
      " 0   battery_power  2000 non-null   int64  \n",
      " 1   blue           2000 non-null   int64  \n",
      " 2   clock_speed    2000 non-null   float64\n",
      " 3   dual_sim       2000 non-null   int64  \n",
      " 4   fc             2000 non-null   int64  \n",
      " 5   four_g         2000 non-null   int64  \n",
      " 6   int_memory     2000 non-null   int64  \n",
      " 7   m_dep          2000 non-null   float64\n",
      " 8   mobile_wt      2000 non-null   int64  \n",
      " 9   n_cores        2000 non-null   int64  \n",
      " 10  pc             2000 non-null   int64  \n",
      " 11  px_height      2000 non-null   int64  \n",
      " 12  px_width       2000 non-null   int64  \n",
      " 13  ram            2000 non-null   int64  \n",
      " 14  sc_h           2000 non-null   int64  \n",
      " 15  sc_w           2000 non-null   int64  \n",
      " 16  talk_time      2000 non-null   int64  \n",
      " 17  three_g        2000 non-null   int64  \n",
      " 18  touch_screen   2000 non-null   int64  \n",
      " 19  wifi           2000 non-null   int64  \n",
      " 20  price_range    2000 non-null   int64  \n",
      "dtypes: float64(2), int64(19)\n",
      "memory usage: 328.2 KB\n"
     ]
    }
   ],
   "source": [
    "train_data.info()"
   ]
  },
  {
   "cell_type": "code",
   "execution_count": 4,
   "id": "ad1fe3f7",
   "metadata": {},
   "outputs": [
    {
     "data": {
      "text/plain": [
       "battery_power    0\n",
       "blue             0\n",
       "clock_speed      0\n",
       "dual_sim         0\n",
       "fc               0\n",
       "four_g           0\n",
       "int_memory       0\n",
       "m_dep            0\n",
       "mobile_wt        0\n",
       "n_cores          0\n",
       "pc               0\n",
       "px_height        0\n",
       "px_width         0\n",
       "ram              0\n",
       "sc_h             0\n",
       "sc_w             0\n",
       "talk_time        0\n",
       "three_g          0\n",
       "touch_screen     0\n",
       "wifi             0\n",
       "price_range      0\n",
       "dtype: int64"
      ]
     },
     "execution_count": 4,
     "metadata": {},
     "output_type": "execute_result"
    }
   ],
   "source": [
    "train_data.isnull().sum()"
   ]
  },
  {
   "cell_type": "code",
   "execution_count": 5,
   "id": "9027d986",
   "metadata": {},
   "outputs": [
    {
     "data": {
      "text/plain": [
       "(2000, 21)"
      ]
     },
     "execution_count": 5,
     "metadata": {},
     "output_type": "execute_result"
    }
   ],
   "source": [
    "train_data.shape"
   ]
  },
  {
   "cell_type": "code",
   "execution_count": 6,
   "id": "08e61746",
   "metadata": {},
   "outputs": [
    {
     "data": {
      "text/plain": [
       "(1820, 21)"
      ]
     },
     "execution_count": 6,
     "metadata": {},
     "output_type": "execute_result"
    }
   ],
   "source": [
    "train_data_f = train_data[train_data['sc_w'] != 0]\n",
    "train_data_f.shape"
   ]
  },
  {
   "cell_type": "code",
   "execution_count": 7,
   "id": "97d947b8",
   "metadata": {},
   "outputs": [
    {
     "data": {
      "text/html": [
       "<div>\n",
       "<style scoped>\n",
       "    .dataframe tbody tr th:only-of-type {\n",
       "        vertical-align: middle;\n",
       "    }\n",
       "\n",
       "    .dataframe tbody tr th {\n",
       "        vertical-align: top;\n",
       "    }\n",
       "\n",
       "    .dataframe thead th {\n",
       "        text-align: right;\n",
       "    }\n",
       "</style>\n",
       "<table border=\"1\" class=\"dataframe\">\n",
       "  <thead>\n",
       "    <tr style=\"text-align: right;\">\n",
       "      <th></th>\n",
       "      <th>count</th>\n",
       "      <th>mean</th>\n",
       "      <th>std</th>\n",
       "      <th>min</th>\n",
       "      <th>25%</th>\n",
       "      <th>50%</th>\n",
       "      <th>75%</th>\n",
       "      <th>max</th>\n",
       "    </tr>\n",
       "  </thead>\n",
       "  <tbody>\n",
       "    <tr>\n",
       "      <th>battery_power</th>\n",
       "      <td>1820.0</td>\n",
       "      <td>1237.843956</td>\n",
       "      <td>439.940961</td>\n",
       "      <td>501.0</td>\n",
       "      <td>845.50</td>\n",
       "      <td>1230.5</td>\n",
       "      <td>1611.00</td>\n",
       "      <td>1998.0</td>\n",
       "    </tr>\n",
       "    <tr>\n",
       "      <th>blue</th>\n",
       "      <td>1820.0</td>\n",
       "      <td>0.503846</td>\n",
       "      <td>0.500123</td>\n",
       "      <td>0.0</td>\n",
       "      <td>0.00</td>\n",
       "      <td>1.0</td>\n",
       "      <td>1.00</td>\n",
       "      <td>1.0</td>\n",
       "    </tr>\n",
       "    <tr>\n",
       "      <th>clock_speed</th>\n",
       "      <td>1820.0</td>\n",
       "      <td>1.519670</td>\n",
       "      <td>0.813829</td>\n",
       "      <td>0.5</td>\n",
       "      <td>0.70</td>\n",
       "      <td>1.5</td>\n",
       "      <td>2.20</td>\n",
       "      <td>3.0</td>\n",
       "    </tr>\n",
       "    <tr>\n",
       "      <th>dual_sim</th>\n",
       "      <td>1820.0</td>\n",
       "      <td>0.504396</td>\n",
       "      <td>0.500118</td>\n",
       "      <td>0.0</td>\n",
       "      <td>0.00</td>\n",
       "      <td>1.0</td>\n",
       "      <td>1.00</td>\n",
       "      <td>1.0</td>\n",
       "    </tr>\n",
       "    <tr>\n",
       "      <th>fc</th>\n",
       "      <td>1820.0</td>\n",
       "      <td>4.319231</td>\n",
       "      <td>4.354894</td>\n",
       "      <td>0.0</td>\n",
       "      <td>1.00</td>\n",
       "      <td>3.0</td>\n",
       "      <td>7.00</td>\n",
       "      <td>19.0</td>\n",
       "    </tr>\n",
       "    <tr>\n",
       "      <th>four_g</th>\n",
       "      <td>1820.0</td>\n",
       "      <td>0.524725</td>\n",
       "      <td>0.499526</td>\n",
       "      <td>0.0</td>\n",
       "      <td>0.00</td>\n",
       "      <td>1.0</td>\n",
       "      <td>1.00</td>\n",
       "      <td>1.0</td>\n",
       "    </tr>\n",
       "    <tr>\n",
       "      <th>int_memory</th>\n",
       "      <td>1820.0</td>\n",
       "      <td>32.139560</td>\n",
       "      <td>18.114542</td>\n",
       "      <td>2.0</td>\n",
       "      <td>16.00</td>\n",
       "      <td>32.0</td>\n",
       "      <td>48.00</td>\n",
       "      <td>64.0</td>\n",
       "    </tr>\n",
       "    <tr>\n",
       "      <th>m_dep</th>\n",
       "      <td>1820.0</td>\n",
       "      <td>0.499890</td>\n",
       "      <td>0.288805</td>\n",
       "      <td>0.1</td>\n",
       "      <td>0.20</td>\n",
       "      <td>0.5</td>\n",
       "      <td>0.80</td>\n",
       "      <td>1.0</td>\n",
       "    </tr>\n",
       "    <tr>\n",
       "      <th>mobile_wt</th>\n",
       "      <td>1820.0</td>\n",
       "      <td>140.585714</td>\n",
       "      <td>35.428886</td>\n",
       "      <td>80.0</td>\n",
       "      <td>109.00</td>\n",
       "      <td>141.5</td>\n",
       "      <td>170.25</td>\n",
       "      <td>200.0</td>\n",
       "    </tr>\n",
       "    <tr>\n",
       "      <th>n_cores</th>\n",
       "      <td>1820.0</td>\n",
       "      <td>4.532967</td>\n",
       "      <td>2.289520</td>\n",
       "      <td>1.0</td>\n",
       "      <td>3.00</td>\n",
       "      <td>5.0</td>\n",
       "      <td>7.00</td>\n",
       "      <td>8.0</td>\n",
       "    </tr>\n",
       "    <tr>\n",
       "      <th>pc</th>\n",
       "      <td>1820.0</td>\n",
       "      <td>9.882418</td>\n",
       "      <td>6.007821</td>\n",
       "      <td>0.0</td>\n",
       "      <td>5.00</td>\n",
       "      <td>10.0</td>\n",
       "      <td>15.00</td>\n",
       "      <td>20.0</td>\n",
       "    </tr>\n",
       "    <tr>\n",
       "      <th>px_height</th>\n",
       "      <td>1820.0</td>\n",
       "      <td>646.731319</td>\n",
       "      <td>444.877537</td>\n",
       "      <td>0.0</td>\n",
       "      <td>283.75</td>\n",
       "      <td>561.5</td>\n",
       "      <td>952.00</td>\n",
       "      <td>1960.0</td>\n",
       "    </tr>\n",
       "    <tr>\n",
       "      <th>px_width</th>\n",
       "      <td>1820.0</td>\n",
       "      <td>1252.686264</td>\n",
       "      <td>432.342583</td>\n",
       "      <td>500.0</td>\n",
       "      <td>877.00</td>\n",
       "      <td>1250.0</td>\n",
       "      <td>1633.00</td>\n",
       "      <td>1998.0</td>\n",
       "    </tr>\n",
       "    <tr>\n",
       "      <th>ram</th>\n",
       "      <td>1820.0</td>\n",
       "      <td>2133.372527</td>\n",
       "      <td>1087.197536</td>\n",
       "      <td>256.0</td>\n",
       "      <td>1203.75</td>\n",
       "      <td>2174.0</td>\n",
       "      <td>3072.25</td>\n",
       "      <td>3998.0</td>\n",
       "    </tr>\n",
       "    <tr>\n",
       "      <th>sc_h</th>\n",
       "      <td>1820.0</td>\n",
       "      <td>12.485714</td>\n",
       "      <td>4.166849</td>\n",
       "      <td>5.0</td>\n",
       "      <td>9.00</td>\n",
       "      <td>13.0</td>\n",
       "      <td>16.00</td>\n",
       "      <td>19.0</td>\n",
       "    </tr>\n",
       "    <tr>\n",
       "      <th>sc_w</th>\n",
       "      <td>1820.0</td>\n",
       "      <td>6.337363</td>\n",
       "      <td>4.152062</td>\n",
       "      <td>1.0</td>\n",
       "      <td>3.00</td>\n",
       "      <td>6.0</td>\n",
       "      <td>9.00</td>\n",
       "      <td>18.0</td>\n",
       "    </tr>\n",
       "    <tr>\n",
       "      <th>talk_time</th>\n",
       "      <td>1820.0</td>\n",
       "      <td>11.007143</td>\n",
       "      <td>5.455951</td>\n",
       "      <td>2.0</td>\n",
       "      <td>6.00</td>\n",
       "      <td>11.0</td>\n",
       "      <td>16.00</td>\n",
       "      <td>20.0</td>\n",
       "    </tr>\n",
       "    <tr>\n",
       "      <th>three_g</th>\n",
       "      <td>1820.0</td>\n",
       "      <td>0.760989</td>\n",
       "      <td>0.426597</td>\n",
       "      <td>0.0</td>\n",
       "      <td>1.00</td>\n",
       "      <td>1.0</td>\n",
       "      <td>1.00</td>\n",
       "      <td>1.0</td>\n",
       "    </tr>\n",
       "    <tr>\n",
       "      <th>touch_screen</th>\n",
       "      <td>1820.0</td>\n",
       "      <td>0.507692</td>\n",
       "      <td>0.500078</td>\n",
       "      <td>0.0</td>\n",
       "      <td>0.00</td>\n",
       "      <td>1.0</td>\n",
       "      <td>1.00</td>\n",
       "      <td>1.0</td>\n",
       "    </tr>\n",
       "    <tr>\n",
       "      <th>wifi</th>\n",
       "      <td>1820.0</td>\n",
       "      <td>0.513187</td>\n",
       "      <td>0.499963</td>\n",
       "      <td>0.0</td>\n",
       "      <td>0.00</td>\n",
       "      <td>1.0</td>\n",
       "      <td>1.00</td>\n",
       "      <td>1.0</td>\n",
       "    </tr>\n",
       "    <tr>\n",
       "      <th>price_range</th>\n",
       "      <td>1820.0</td>\n",
       "      <td>1.509341</td>\n",
       "      <td>1.119285</td>\n",
       "      <td>0.0</td>\n",
       "      <td>1.00</td>\n",
       "      <td>2.0</td>\n",
       "      <td>3.00</td>\n",
       "      <td>3.0</td>\n",
       "    </tr>\n",
       "  </tbody>\n",
       "</table>\n",
       "</div>"
      ],
      "text/plain": [
       "                count         mean          std    min      25%     50%  \\\n",
       "battery_power  1820.0  1237.843956   439.940961  501.0   845.50  1230.5   \n",
       "blue           1820.0     0.503846     0.500123    0.0     0.00     1.0   \n",
       "clock_speed    1820.0     1.519670     0.813829    0.5     0.70     1.5   \n",
       "dual_sim       1820.0     0.504396     0.500118    0.0     0.00     1.0   \n",
       "fc             1820.0     4.319231     4.354894    0.0     1.00     3.0   \n",
       "four_g         1820.0     0.524725     0.499526    0.0     0.00     1.0   \n",
       "int_memory     1820.0    32.139560    18.114542    2.0    16.00    32.0   \n",
       "m_dep          1820.0     0.499890     0.288805    0.1     0.20     0.5   \n",
       "mobile_wt      1820.0   140.585714    35.428886   80.0   109.00   141.5   \n",
       "n_cores        1820.0     4.532967     2.289520    1.0     3.00     5.0   \n",
       "pc             1820.0     9.882418     6.007821    0.0     5.00    10.0   \n",
       "px_height      1820.0   646.731319   444.877537    0.0   283.75   561.5   \n",
       "px_width       1820.0  1252.686264   432.342583  500.0   877.00  1250.0   \n",
       "ram            1820.0  2133.372527  1087.197536  256.0  1203.75  2174.0   \n",
       "sc_h           1820.0    12.485714     4.166849    5.0     9.00    13.0   \n",
       "sc_w           1820.0     6.337363     4.152062    1.0     3.00     6.0   \n",
       "talk_time      1820.0    11.007143     5.455951    2.0     6.00    11.0   \n",
       "three_g        1820.0     0.760989     0.426597    0.0     1.00     1.0   \n",
       "touch_screen   1820.0     0.507692     0.500078    0.0     0.00     1.0   \n",
       "wifi           1820.0     0.513187     0.499963    0.0     0.00     1.0   \n",
       "price_range    1820.0     1.509341     1.119285    0.0     1.00     2.0   \n",
       "\n",
       "                   75%     max  \n",
       "battery_power  1611.00  1998.0  \n",
       "blue              1.00     1.0  \n",
       "clock_speed       2.20     3.0  \n",
       "dual_sim          1.00     1.0  \n",
       "fc                7.00    19.0  \n",
       "four_g            1.00     1.0  \n",
       "int_memory       48.00    64.0  \n",
       "m_dep             0.80     1.0  \n",
       "mobile_wt       170.25   200.0  \n",
       "n_cores           7.00     8.0  \n",
       "pc               15.00    20.0  \n",
       "px_height       952.00  1960.0  \n",
       "px_width       1633.00  1998.0  \n",
       "ram            3072.25  3998.0  \n",
       "sc_h             16.00    19.0  \n",
       "sc_w              9.00    18.0  \n",
       "talk_time        16.00    20.0  \n",
       "three_g           1.00     1.0  \n",
       "touch_screen      1.00     1.0  \n",
       "wifi              1.00     1.0  \n",
       "price_range       3.00     3.0  "
      ]
     },
     "execution_count": 7,
     "metadata": {},
     "output_type": "execute_result"
    }
   ],
   "source": [
    "train_data_f.describe().T"
   ]
  },
  {
   "cell_type": "markdown",
   "id": "e98c71c8",
   "metadata": {},
   "source": [
    "Let us visualize the number of elements in each class of mobile phones."
   ]
  },
  {
   "cell_type": "code",
   "execution_count": 8,
   "id": "ac41cdda",
   "metadata": {},
   "outputs": [
    {
     "data": {
      "image/png": "[encoded data removed]",
      "text/plain": [
       "<Figure size 432x288 with 1 Axes>"
      ]
     },
     "metadata": {},
     "output_type": "display_data"
    }
   ],
   "source": [
    "sns.set()\n",
    "train_data_f['price_range'].value_counts().plot(kind = 'bar')\n",
    "plt.xlabel('price_range')\n",
    "plt.ylabel('count')\n",
    "plt.show()"
   ]
  },
  {
   "cell_type": "markdown",
   "id": "493cfa95",
   "metadata": {},
   "source": [
    "there are mobile phones in 4 price ranges. The number of elements is almost similar."
   ]
  },
  {
   "cell_type": "markdown",
   "id": "feb4db9b",
   "metadata": {},
   "source": [
    "# Data Distribution"
   ]
  },
  {
   "cell_type": "code",
   "execution_count": 9,
   "id": "6d2d9f4b",
   "metadata": {},
   "outputs": [
    {
     "data": {
      "image/png": "[encoded data removed]",
      "text/plain": [
       "<Figure size 1080x504 with 21 Axes>"
      ]
     },
     "metadata": {},
     "output_type": "display_data"
    }
   ],
   "source": [
    "plt.figure(figsize=(15,7))\n",
    "features = train_data_f.columns\n",
    "for i in range(len(features)):\n",
    "    plt.subplot(7,3,i+1)\n",
    "    sns.boxplot(x=train_data_f[features[i]], data = train_data_f, color = 'b')\n",
    "    plt.title('Distplot of {}'.format(features[i]))"
   ]
  },
  {
   "cell_type": "code",
   "execution_count": 10,
   "id": "dd517450",
   "metadata": {},
   "outputs": [
    {
     "data": {
      "image/png": "[encoded data removed]",
      "text/plain": [
       "<Figure size 1080x504 with 21 Axes>"
      ]
     },
     "metadata": {},
     "output_type": "display_data"
    }
   ],
   "source": [
    "plt.figure(figsize=(15,7))\n",
    "features = train_data_f.columns\n",
    "for i in range(len(features)):\n",
    "    plt.subplot(7,3,i+1)\n",
    "    sns.distplot(x=train_data_f[features[i]], color = 'g', kde=True)\n",
    "    plt.title('Distplot of {}'.format(features[i]))"
   ]
  },
  {
   "cell_type": "code",
   "execution_count": null,
   "id": "7a0fb72d",
   "metadata": {},
   "outputs": [],
   "source": []
  },
  {
   "cell_type": "code",
   "execution_count": 24,
   "id": "64ff0032",
   "metadata": {},
   "outputs": [
    {
     "ename": "AttributeError",
     "evalue": "module 'numpy' has no attribute 'train_data_f'",
     "output_type": "error",
     "traceback": [
      "\u001b[1;31m---------------------------------------------------------------------------\u001b[0m",
      "\u001b[1;31mAttributeError\u001b[0m                            Traceback (most recent call last)",
      "Input \u001b[1;32mIn [24]\u001b[0m, in \u001b[0;36m<cell line: 3>\u001b[1;34m()\u001b[0m\n\u001b[0;32m      1\u001b[0m \u001b[38;5;28;01mfrom\u001b[39;00m \u001b[38;5;21;01mscipy\u001b[39;00m\u001b[38;5;21;01m.\u001b[39;00m\u001b[38;5;21;01mstats\u001b[39;00m \u001b[38;5;28;01mimport\u001b[39;00m zscore\n\u001b[0;32m      2\u001b[0m train_data_f \u001b[38;5;241m=\u001b[39m train_data_f\u001b[38;5;241m.\u001b[39mapply(zscore) \n\u001b[1;32m----> 3\u001b[0m train_data_f \u001b[38;5;241m=\u001b[39m \u001b[43mnp\u001b[49m\u001b[38;5;241;43m.\u001b[39;49m\u001b[43mtrain_data_f\u001b[49m\n",
      "File \u001b[1;32m~\\anaconda3\\lib\\site-packages\\numpy\\__init__.py:313\u001b[0m, in \u001b[0;36m__getattr__\u001b[1;34m(attr)\u001b[0m\n\u001b[0;32m    310\u001b[0m     \u001b[38;5;28;01mfrom\u001b[39;00m \u001b[38;5;21;01m.\u001b[39;00m\u001b[38;5;21;01mtesting\u001b[39;00m \u001b[38;5;28;01mimport\u001b[39;00m Tester\n\u001b[0;32m    311\u001b[0m     \u001b[38;5;28;01mreturn\u001b[39;00m Tester\n\u001b[1;32m--> 313\u001b[0m \u001b[38;5;28;01mraise\u001b[39;00m \u001b[38;5;167;01mAttributeError\u001b[39;00m(\u001b[38;5;124m\"\u001b[39m\u001b[38;5;124mmodule \u001b[39m\u001b[38;5;132;01m{!r}\u001b[39;00m\u001b[38;5;124m has no attribute \u001b[39m\u001b[38;5;124m\"\u001b[39m\n\u001b[0;32m    314\u001b[0m                      \u001b[38;5;124m\"\u001b[39m\u001b[38;5;132;01m{!r}\u001b[39;00m\u001b[38;5;124m\"\u001b[39m\u001b[38;5;241m.\u001b[39mformat(\u001b[38;5;18m__name__\u001b[39m, attr))\n",
      "\u001b[1;31mAttributeError\u001b[0m: module 'numpy' has no attribute 'train_data_f'"
     ]
    }
   ],
   "source": [
    "from scipy.stats import zscore\n",
    "train_data_f = train_data_f.apply(zscore) \n",
    "train_data_f = np.train_data_f"
   ]
  },
  {
   "cell_type": "code",
   "execution_count": 13,
   "id": "0f7f3842",
   "metadata": {},
   "outputs": [
    {
     "data": {
      "text/html": [
       "<div>\n",
       "<style scoped>\n",
       "    .dataframe tbody tr th:only-of-type {\n",
       "        vertical-align: middle;\n",
       "    }\n",
       "\n",
       "    .dataframe tbody tr th {\n",
       "        vertical-align: top;\n",
       "    }\n",
       "\n",
       "    .dataframe thead th {\n",
       "        text-align: right;\n",
       "    }\n",
       "</style>\n",
       "<table border=\"1\" class=\"dataframe\">\n",
       "  <thead>\n",
       "    <tr style=\"text-align: right;\">\n",
       "      <th></th>\n",
       "      <th>count</th>\n",
       "      <th>mean</th>\n",
       "      <th>std</th>\n",
       "      <th>min</th>\n",
       "      <th>25%</th>\n",
       "      <th>50%</th>\n",
       "      <th>75%</th>\n",
       "      <th>max</th>\n",
       "    </tr>\n",
       "  </thead>\n",
       "  <tbody>\n",
       "    <tr>\n",
       "      <th>battery_power</th>\n",
       "      <td>1820.0</td>\n",
       "      <td>-2.928061e-18</td>\n",
       "      <td>1.000275</td>\n",
       "      <td>-1.675330</td>\n",
       "      <td>-0.892056</td>\n",
       "      <td>-0.016698</td>\n",
       "      <td>0.848429</td>\n",
       "      <td>1.728334</td>\n",
       "    </tr>\n",
       "    <tr>\n",
       "      <th>blue</th>\n",
       "      <td>1820.0</td>\n",
       "      <td>2.530332e-16</td>\n",
       "      <td>1.000275</td>\n",
       "      <td>-1.007722</td>\n",
       "      <td>-1.007722</td>\n",
       "      <td>0.992337</td>\n",
       "      <td>0.992337</td>\n",
       "      <td>0.992337</td>\n",
       "    </tr>\n",
       "    <tr>\n",
       "      <th>clock_speed</th>\n",
       "      <td>1820.0</td>\n",
       "      <td>2.900000e-16</td>\n",
       "      <td>1.000275</td>\n",
       "      <td>-1.253274</td>\n",
       "      <td>-1.007454</td>\n",
       "      <td>-0.024177</td>\n",
       "      <td>0.836191</td>\n",
       "      <td>1.819469</td>\n",
       "    </tr>\n",
       "    <tr>\n",
       "      <th>dual_sim</th>\n",
       "      <td>1820.0</td>\n",
       "      <td>1.586033e-17</td>\n",
       "      <td>1.000275</td>\n",
       "      <td>-1.008830</td>\n",
       "      <td>-1.008830</td>\n",
       "      <td>0.991247</td>\n",
       "      <td>0.991247</td>\n",
       "      <td>0.991247</td>\n",
       "    </tr>\n",
       "    <tr>\n",
       "      <th>fc</th>\n",
       "      <td>1820.0</td>\n",
       "      <td>8.466976e-17</td>\n",
       "      <td>1.000275</td>\n",
       "      <td>-0.992083</td>\n",
       "      <td>-0.762393</td>\n",
       "      <td>-0.303014</td>\n",
       "      <td>0.615745</td>\n",
       "      <td>3.372023</td>\n",
       "    </tr>\n",
       "    <tr>\n",
       "      <th>four_g</th>\n",
       "      <td>1820.0</td>\n",
       "      <td>1.359108e-16</td>\n",
       "      <td>1.000275</td>\n",
       "      <td>-1.050736</td>\n",
       "      <td>-1.050736</td>\n",
       "      <td>0.951714</td>\n",
       "      <td>0.951714</td>\n",
       "      <td>0.951714</td>\n",
       "    </tr>\n",
       "    <tr>\n",
       "      <th>int_memory</th>\n",
       "      <td>1820.0</td>\n",
       "      <td>-3.629575e-17</td>\n",
       "      <td>1.000275</td>\n",
       "      <td>-1.664290</td>\n",
       "      <td>-0.891217</td>\n",
       "      <td>-0.007706</td>\n",
       "      <td>0.875805</td>\n",
       "      <td>1.759316</td>\n",
       "    </tr>\n",
       "    <tr>\n",
       "      <th>m_dep</th>\n",
       "      <td>1820.0</td>\n",
       "      <td>1.588473e-16</td>\n",
       "      <td>1.000275</td>\n",
       "      <td>-1.385017</td>\n",
       "      <td>-1.038667</td>\n",
       "      <td>0.000381</td>\n",
       "      <td>1.039428</td>\n",
       "      <td>1.732127</td>\n",
       "    </tr>\n",
       "    <tr>\n",
       "      <th>mobile_wt</th>\n",
       "      <td>1820.0</td>\n",
       "      <td>-2.696256e-17</td>\n",
       "      <td>1.000275</td>\n",
       "      <td>-1.710535</td>\n",
       "      <td>-0.891769</td>\n",
       "      <td>0.025813</td>\n",
       "      <td>0.837521</td>\n",
       "      <td>1.677462</td>\n",
       "    </tr>\n",
       "    <tr>\n",
       "      <th>n_cores</th>\n",
       "      <td>1820.0</td>\n",
       "      <td>3.879680e-17</td>\n",
       "      <td>1.000275</td>\n",
       "      <td>-1.543528</td>\n",
       "      <td>-0.669742</td>\n",
       "      <td>0.204043</td>\n",
       "      <td>1.077829</td>\n",
       "      <td>1.514722</td>\n",
       "    </tr>\n",
       "    <tr>\n",
       "      <th>pc</th>\n",
       "      <td>1820.0</td>\n",
       "      <td>-4.221288e-17</td>\n",
       "      <td>1.000275</td>\n",
       "      <td>-1.645377</td>\n",
       "      <td>-0.812900</td>\n",
       "      <td>0.019577</td>\n",
       "      <td>0.852054</td>\n",
       "      <td>1.684531</td>\n",
       "    </tr>\n",
       "    <tr>\n",
       "      <th>px_height</th>\n",
       "      <td>1820.0</td>\n",
       "      <td>-1.074842e-16</td>\n",
       "      <td>1.000275</td>\n",
       "      <td>-1.454128</td>\n",
       "      <td>-0.816137</td>\n",
       "      <td>-0.191636</td>\n",
       "      <td>0.686374</td>\n",
       "      <td>2.952789</td>\n",
       "    </tr>\n",
       "    <tr>\n",
       "      <th>px_width</th>\n",
       "      <td>1820.0</td>\n",
       "      <td>-4.282289e-17</td>\n",
       "      <td>1.000275</td>\n",
       "      <td>-1.741427</td>\n",
       "      <td>-0.869194</td>\n",
       "      <td>-0.006215</td>\n",
       "      <td>0.879900</td>\n",
       "      <td>1.724370</td>\n",
       "    </tr>\n",
       "    <tr>\n",
       "      <th>ram</th>\n",
       "      <td>1820.0</td>\n",
       "      <td>-7.734960e-17</td>\n",
       "      <td>1.000275</td>\n",
       "      <td>-1.727274</td>\n",
       "      <td>-0.855298</td>\n",
       "      <td>0.037379</td>\n",
       "      <td>0.863813</td>\n",
       "      <td>1.715548</td>\n",
       "    </tr>\n",
       "    <tr>\n",
       "      <th>sc_h</th>\n",
       "      <td>1820.0</td>\n",
       "      <td>-1.464030e-18</td>\n",
       "      <td>1.000275</td>\n",
       "      <td>-1.796986</td>\n",
       "      <td>-0.836765</td>\n",
       "      <td>0.123457</td>\n",
       "      <td>0.843623</td>\n",
       "      <td>1.563790</td>\n",
       "    </tr>\n",
       "    <tr>\n",
       "      <th>sc_w</th>\n",
       "      <td>1820.0</td>\n",
       "      <td>7.381153e-17</td>\n",
       "      <td>1.000275</td>\n",
       "      <td>-1.285826</td>\n",
       "      <td>-0.804005</td>\n",
       "      <td>-0.081274</td>\n",
       "      <td>0.641457</td>\n",
       "      <td>2.809651</td>\n",
       "    </tr>\n",
       "    <tr>\n",
       "      <th>talk_time</th>\n",
       "      <td>1820.0</td>\n",
       "      <td>-1.668995e-16</td>\n",
       "      <td>1.000275</td>\n",
       "      <td>-1.651338</td>\n",
       "      <td>-0.917992</td>\n",
       "      <td>-0.001310</td>\n",
       "      <td>0.915373</td>\n",
       "      <td>1.648719</td>\n",
       "    </tr>\n",
       "    <tr>\n",
       "      <th>three_g</th>\n",
       "      <td>1820.0</td>\n",
       "      <td>4.783719e-16</td>\n",
       "      <td>1.000275</td>\n",
       "      <td>-1.784351</td>\n",
       "      <td>0.560428</td>\n",
       "      <td>0.560428</td>\n",
       "      <td>0.560428</td>\n",
       "      <td>0.560428</td>\n",
       "    </tr>\n",
       "    <tr>\n",
       "      <th>touch_screen</th>\n",
       "      <td>1820.0</td>\n",
       "      <td>2.280227e-16</td>\n",
       "      <td>1.000275</td>\n",
       "      <td>-1.015505</td>\n",
       "      <td>-1.015505</td>\n",
       "      <td>0.984732</td>\n",
       "      <td>0.984732</td>\n",
       "      <td>0.984732</td>\n",
       "    </tr>\n",
       "    <tr>\n",
       "      <th>wifi</th>\n",
       "      <td>1820.0</td>\n",
       "      <td>-1.395709e-16</td>\n",
       "      <td>1.000275</td>\n",
       "      <td>-1.026731</td>\n",
       "      <td>-1.026731</td>\n",
       "      <td>0.973965</td>\n",
       "      <td>0.973965</td>\n",
       "      <td>0.973965</td>\n",
       "    </tr>\n",
       "    <tr>\n",
       "      <th>price_range</th>\n",
       "      <td>1820.0</td>\n",
       "      <td>8.649979e-17</td>\n",
       "      <td>1.000275</td>\n",
       "      <td>-1.348857</td>\n",
       "      <td>-0.455184</td>\n",
       "      <td>0.438489</td>\n",
       "      <td>1.332162</td>\n",
       "      <td>1.332162</td>\n",
       "    </tr>\n",
       "  </tbody>\n",
       "</table>\n",
       "</div>"
      ],
      "text/plain": [
       "                count          mean       std       min       25%       50%  \\\n",
       "battery_power  1820.0 -2.928061e-18  1.000275 -1.675330 -0.892056 -0.016698   \n",
       "blue           1820.0  2.530332e-16  1.000275 -1.007722 -1.007722  0.992337   \n",
       "clock_speed    1820.0  2.900000e-16  1.000275 -1.253274 -1.007454 -0.024177   \n",
       "dual_sim       1820.0  1.586033e-17  1.000275 -1.008830 -1.008830  0.991247   \n",
       "fc             1820.0  8.466976e-17  1.000275 -0.992083 -0.762393 -0.303014   \n",
       "four_g         1820.0  1.359108e-16  1.000275 -1.050736 -1.050736  0.951714   \n",
       "int_memory     1820.0 -3.629575e-17  1.000275 -1.664290 -0.891217 -0.007706   \n",
       "m_dep          1820.0  1.588473e-16  1.000275 -1.385017 -1.038667  0.000381   \n",
       "mobile_wt      1820.0 -2.696256e-17  1.000275 -1.710535 -0.891769  0.025813   \n",
       "n_cores        1820.0  3.879680e-17  1.000275 -1.543528 -0.669742  0.204043   \n",
       "pc             1820.0 -4.221288e-17  1.000275 -1.645377 -0.812900  0.019577   \n",
       "px_height      1820.0 -1.074842e-16  1.000275 -1.454128 -0.816137 -0.191636   \n",
       "px_width       1820.0 -4.282289e-17  1.000275 -1.741427 -0.869194 -0.006215   \n",
       "ram            1820.0 -7.734960e-17  1.000275 -1.727274 -0.855298  0.037379   \n",
       "sc_h           1820.0 -1.464030e-18  1.000275 -1.796986 -0.836765  0.123457   \n",
       "sc_w           1820.0  7.381153e-17  1.000275 -1.285826 -0.804005 -0.081274   \n",
       "talk_time      1820.0 -1.668995e-16  1.000275 -1.651338 -0.917992 -0.001310   \n",
       "three_g        1820.0  4.783719e-16  1.000275 -1.784351  0.560428  0.560428   \n",
       "touch_screen   1820.0  2.280227e-16  1.000275 -1.015505 -1.015505  0.984732   \n",
       "wifi           1820.0 -1.395709e-16  1.000275 -1.026731 -1.026731  0.973965   \n",
       "price_range    1820.0  8.649979e-17  1.000275 -1.348857 -0.455184  0.438489   \n",
       "\n",
       "                    75%       max  \n",
       "battery_power  0.848429  1.728334  \n",
       "blue           0.992337  0.992337  \n",
       "clock_speed    0.836191  1.819469  \n",
       "dual_sim       0.991247  0.991247  \n",
       "fc             0.615745  3.372023  \n",
       "four_g         0.951714  0.951714  \n",
       "int_memory     0.875805  1.759316  \n",
       "m_dep          1.039428  1.732127  \n",
       "mobile_wt      0.837521  1.677462  \n",
       "n_cores        1.077829  1.514722  \n",
       "pc             0.852054  1.684531  \n",
       "px_height      0.686374  2.952789  \n",
       "px_width       0.879900  1.724370  \n",
       "ram            0.863813  1.715548  \n",
       "sc_h           0.843623  1.563790  \n",
       "sc_w           0.641457  2.809651  \n",
       "talk_time      0.915373  1.648719  \n",
       "three_g        0.560428  0.560428  \n",
       "touch_screen   0.984732  0.984732  \n",
       "wifi           0.973965  0.973965  \n",
       "price_range    1.332162  1.332162  "
      ]
     },
     "execution_count": 13,
     "metadata": {},
     "output_type": "execute_result"
    }
   ],
   "source": [
    "train_data_f.describe().T"
   ]
  },
  {
   "cell_type": "code",
   "execution_count": 12,
   "id": "32032fb6",
   "metadata": {},
   "outputs": [],
   "source": [
    "# train_data_f['battery_power'] = np.log(train_data_f['battery_power'] )\n",
    "# # train_data_f['mobile_wt'] = np.log(train_data_f['mobile_wt'] )\n",
    "# # train_data_f['px_height'] = np.log(train_data_f['px_height'] )\n",
    "# train_data_f['px_width'] = np.log(train_data_f['px_width'] )\n",
    "# train_data_f['ram'] = np.log(train_data_f['ram'] )\n",
    "\n",
    "# # train_data_f.head()"
   ]
  },
  {
   "cell_type": "markdown",
   "id": "fe9d2301",
   "metadata": {},
   "source": [
    "# Spliting the data"
   ]
  },
  {
   "cell_type": "code",
   "execution_count": 16,
   "id": "875df76f",
   "metadata": {},
   "outputs": [],
   "source": [
    "X = train_data_f.drop(['price_range'],axis=1)\n",
    "y = train_data_f.pop('price_range')"
   ]
  },
  {
   "cell_type": "code",
   "execution_count": 17,
   "id": "1f24df00",
   "metadata": {},
   "outputs": [],
   "source": [
    "from sklearn.model_selection import train_test_split\n",
    "X_train, X_valid, y_train, y_valid = train_test_split(X, y, test_size = 0.2, random_state = 7)"
   ]
  },
  {
   "cell_type": "markdown",
   "id": "9b7329da",
   "metadata": {},
   "source": [
    "# Confusion Matrix"
   ]
  },
  {
   "cell_type": "code",
   "execution_count": 18,
   "id": "dbfa19ad",
   "metadata": {},
   "outputs": [],
   "source": [
    "from sklearn.metrics import classification_report, confusion_matrix, accuracy_score"
   ]
  },
  {
   "cell_type": "code",
   "execution_count": 19,
   "id": "213ad510",
   "metadata": {},
   "outputs": [],
   "source": [
    "def my_confusion_matrix(y_test, y_pred, plt_title):\n",
    "    cm = confusion_matrix(y_test, y_pred)\n",
    "    print(classification_report(y_test, y_pred))\n",
    "    sns.heatmap(cm, annot=True, fmt='g', cbar=False, cmap='BuPu')\n",
    "    plt.xlabel('Predicted values')\n",
    "    plt.ylabel('Actual Values')\n",
    "    plt.title(plt_title)\n",
    "    plt.show()\n",
    "    return cm"
   ]
  },
  {
   "cell_type": "markdown",
   "id": "83d8ba64",
   "metadata": {},
   "source": [
    "# Random Forest classifier"
   ]
  },
  {
   "cell_type": "code",
   "execution_count": 20,
   "id": "772c2b4f",
   "metadata": {},
   "outputs": [],
   "source": [
    "from sklearn.ensemble import RandomForestClassifier\n",
    "\n",
    "rfc = RandomForestClassifier(bootstrap = True,\n",
    "                            max_depth = 7,\n",
    "                            max_features = 15,\n",
    "                            min_samples_leaf = 3,\n",
    "                            min_samples_split = 10,\n",
    "                            n_estimators = 200,\n",
    "                            random_state = 7)"
   ]
  },
  {
   "cell_type": "markdown",
   "id": "adfe9632",
   "metadata": {},
   "source": [
    "Now, we do the training and prediction."
   ]
  },
  {
   "cell_type": "code",
   "execution_count": 21,
   "id": "824554a2",
   "metadata": {},
   "outputs": [
    {
     "ename": "ValueError",
     "evalue": "Unknown label type: 'continuous'",
     "output_type": "error",
     "traceback": [
      "\u001b[1;31m---------------------------------------------------------------------------\u001b[0m",
      "\u001b[1;31mValueError\u001b[0m                                Traceback (most recent call last)",
      "Input \u001b[1;32mIn [21]\u001b[0m, in \u001b[0;36m<cell line: 1>\u001b[1;34m()\u001b[0m\n\u001b[1;32m----> 1\u001b[0m \u001b[43mrfc\u001b[49m\u001b[38;5;241;43m.\u001b[39;49m\u001b[43mfit\u001b[49m\u001b[43m(\u001b[49m\u001b[43mX_train\u001b[49m\u001b[43m,\u001b[49m\u001b[43m \u001b[49m\u001b[43my_train\u001b[49m\u001b[43m)\u001b[49m\n\u001b[0;32m      2\u001b[0m y_pred_rfc \u001b[38;5;241m=\u001b[39m rfc\u001b[38;5;241m.\u001b[39mpredict(X_valid)\n",
      "File \u001b[1;32m~\\anaconda3\\lib\\site-packages\\sklearn\\ensemble\\_forest.py:367\u001b[0m, in \u001b[0;36mBaseForest.fit\u001b[1;34m(self, X, y, sample_weight)\u001b[0m\n\u001b[0;32m    360\u001b[0m         \u001b[38;5;28;01mraise\u001b[39;00m \u001b[38;5;167;01mValueError\u001b[39;00m(\n\u001b[0;32m    361\u001b[0m             \u001b[38;5;124m\"\u001b[39m\u001b[38;5;124mSum of y is not strictly positive which \u001b[39m\u001b[38;5;124m\"\u001b[39m\n\u001b[0;32m    362\u001b[0m             \u001b[38;5;124m\"\u001b[39m\u001b[38;5;124mis necessary for Poisson regression.\u001b[39m\u001b[38;5;124m\"\u001b[39m\n\u001b[0;32m    363\u001b[0m         )\n\u001b[0;32m    365\u001b[0m \u001b[38;5;28mself\u001b[39m\u001b[38;5;241m.\u001b[39mn_outputs_ \u001b[38;5;241m=\u001b[39m y\u001b[38;5;241m.\u001b[39mshape[\u001b[38;5;241m1\u001b[39m]\n\u001b[1;32m--> 367\u001b[0m y, expanded_class_weight \u001b[38;5;241m=\u001b[39m \u001b[38;5;28;43mself\u001b[39;49m\u001b[38;5;241;43m.\u001b[39;49m\u001b[43m_validate_y_class_weight\u001b[49m\u001b[43m(\u001b[49m\u001b[43my\u001b[49m\u001b[43m)\u001b[49m\n\u001b[0;32m    369\u001b[0m \u001b[38;5;28;01mif\u001b[39;00m \u001b[38;5;28mgetattr\u001b[39m(y, \u001b[38;5;124m\"\u001b[39m\u001b[38;5;124mdtype\u001b[39m\u001b[38;5;124m\"\u001b[39m, \u001b[38;5;28;01mNone\u001b[39;00m) \u001b[38;5;241m!=\u001b[39m DOUBLE \u001b[38;5;129;01mor\u001b[39;00m \u001b[38;5;129;01mnot\u001b[39;00m y\u001b[38;5;241m.\u001b[39mflags\u001b[38;5;241m.\u001b[39mcontiguous:\n\u001b[0;32m    370\u001b[0m     y \u001b[38;5;241m=\u001b[39m np\u001b[38;5;241m.\u001b[39mascontiguousarray(y, dtype\u001b[38;5;241m=\u001b[39mDOUBLE)\n",
      "File \u001b[1;32m~\\anaconda3\\lib\\site-packages\\sklearn\\ensemble\\_forest.py:734\u001b[0m, in \u001b[0;36mForestClassifier._validate_y_class_weight\u001b[1;34m(self, y)\u001b[0m\n\u001b[0;32m    733\u001b[0m \u001b[38;5;28;01mdef\u001b[39;00m \u001b[38;5;21m_validate_y_class_weight\u001b[39m(\u001b[38;5;28mself\u001b[39m, y):\n\u001b[1;32m--> 734\u001b[0m     \u001b[43mcheck_classification_targets\u001b[49m\u001b[43m(\u001b[49m\u001b[43my\u001b[49m\u001b[43m)\u001b[49m\n\u001b[0;32m    736\u001b[0m     y \u001b[38;5;241m=\u001b[39m np\u001b[38;5;241m.\u001b[39mcopy(y)\n\u001b[0;32m    737\u001b[0m     expanded_class_weight \u001b[38;5;241m=\u001b[39m \u001b[38;5;28;01mNone\u001b[39;00m\n",
      "File \u001b[1;32m~\\anaconda3\\lib\\site-packages\\sklearn\\utils\\multiclass.py:197\u001b[0m, in \u001b[0;36mcheck_classification_targets\u001b[1;34m(y)\u001b[0m\n\u001b[0;32m    189\u001b[0m y_type \u001b[38;5;241m=\u001b[39m type_of_target(y)\n\u001b[0;32m    190\u001b[0m \u001b[38;5;28;01mif\u001b[39;00m y_type \u001b[38;5;129;01mnot\u001b[39;00m \u001b[38;5;129;01min\u001b[39;00m [\n\u001b[0;32m    191\u001b[0m     \u001b[38;5;124m\"\u001b[39m\u001b[38;5;124mbinary\u001b[39m\u001b[38;5;124m\"\u001b[39m,\n\u001b[0;32m    192\u001b[0m     \u001b[38;5;124m\"\u001b[39m\u001b[38;5;124mmulticlass\u001b[39m\u001b[38;5;124m\"\u001b[39m,\n\u001b[1;32m   (...)\u001b[0m\n\u001b[0;32m    195\u001b[0m     \u001b[38;5;124m\"\u001b[39m\u001b[38;5;124mmultilabel-sequences\u001b[39m\u001b[38;5;124m\"\u001b[39m,\n\u001b[0;32m    196\u001b[0m ]:\n\u001b[1;32m--> 197\u001b[0m     \u001b[38;5;28;01mraise\u001b[39;00m \u001b[38;5;167;01mValueError\u001b[39;00m(\u001b[38;5;124m\"\u001b[39m\u001b[38;5;124mUnknown label type: \u001b[39m\u001b[38;5;132;01m%r\u001b[39;00m\u001b[38;5;124m\"\u001b[39m \u001b[38;5;241m%\u001b[39m y_type)\n",
      "\u001b[1;31mValueError\u001b[0m: Unknown label type: 'continuous'"
     ]
    }
   ],
   "source": [
    "rfc.fit(X_train, y_train)\n",
    "y_pred_rfc = rfc.predict(X_valid)"
   ]
  },
  {
   "cell_type": "markdown",
   "id": "894ff52b",
   "metadata": {},
   "source": [
    "# Apply the function for the accuracy metrics."
   ]
  },
  {
   "cell_type": "code",
   "execution_count": 19,
   "id": "f9357357",
   "metadata": {},
   "outputs": [
    {
     "name": "stdout",
     "output_type": "stream",
     "text": [
      "Random Forest classifier Accuracy Score:  0.9093406593406593\n",
      "******************************************************************************\n",
      "              precision    recall  f1-score   support\n",
      "\n",
      "           0       0.98      0.97      0.97        95\n",
      "           1       0.90      0.92      0.91        92\n",
      "           2       0.82      0.86      0.84        86\n",
      "           3       0.93      0.88      0.90        91\n",
      "\n",
      "    accuracy                           0.91       364\n",
      "   macro avg       0.91      0.91      0.91       364\n",
      "weighted avg       0.91      0.91      0.91       364\n",
      "\n"
     ]
    },
    {
     "data": {
      "image/png": "[encoded data removed]",
      "text/plain": [
       "<Figure size 432x288 with 1 Axes>"
      ]
     },
     "metadata": {},
     "output_type": "display_data"
    }
   ],
   "source": [
    "print('Random Forest classifier Accuracy Score: ', accuracy_score(y_valid, y_pred_rfc))\n",
    "print('******************************************************************************')\n",
    "cm_rfc = my_confusion_matrix(y_valid, y_pred_rfc, 'Random Forest Confusion Matrix')"
   ]
  },
  {
   "cell_type": "code",
   "execution_count": 20,
   "id": "8b86fc73",
   "metadata": {},
   "outputs": [
    {
     "name": "stdout",
     "output_type": "stream",
     "text": [
      "GDBO_test_precision  0.9\n",
      "GDBO_test_recall  0.92\n",
      "GDBO_test_f1  0.91\n",
      "GDBO_test_acc  0.91\n"
     ]
    }
   ],
   "source": [
    "Rf_test_metrics=classification_report(y_valid, y_pred_rfc,output_dict=True)\n",
    "df=pd.DataFrame(Rf_test_metrics).transpose()\n",
    "rf_test_precision=round(df.loc[\"1\"][0],2)\n",
    "rf_test_recall=round(df.loc[\"1\"][1],2)\n",
    "rf_test_f1=round(df.loc[\"1\"][2],2)\n",
    "rf_test_acc=round(df.loc[\"accuracy\"][3],2)\n",
    "print ('GDBO_test_precision ',rf_test_precision)\n",
    "print ('GDBO_test_recall ',rf_test_recall)\n",
    "print ('GDBO_test_f1 ',rf_test_f1)\n",
    "print ('GDBO_test_acc ',rf_test_acc)"
   ]
  },
  {
   "cell_type": "markdown",
   "id": "b4a9b084",
   "metadata": {},
   "source": [
    "we can see that the random forest algorithm has good accuracy in prediction."
   ]
  },
  {
   "cell_type": "markdown",
   "id": "602a183c",
   "metadata": {},
   "source": [
    "# Naive Bayes"
   ]
  },
  {
   "cell_type": "code",
   "execution_count": 21,
   "id": "7ac0fcbf",
   "metadata": {},
   "outputs": [],
   "source": [
    "from sklearn.naive_bayes import GaussianNB\n",
    "gnb = GaussianNB()"
   ]
  },
  {
   "cell_type": "code",
   "execution_count": 22,
   "id": "6a8cd5f5",
   "metadata": {},
   "outputs": [],
   "source": [
    "gnb.fit(X_train, y_train)\n",
    "y_pred_gnb = gnb.predict(X_valid)"
   ]
  },
  {
   "cell_type": "code",
   "execution_count": 23,
   "id": "a66253f1",
   "metadata": {},
   "outputs": [
    {
     "name": "stdout",
     "output_type": "stream",
     "text": [
      "Gaussian Naive Bayes Classifier: 0.8461538461538461\n",
      "**********************************************************************\n",
      "              precision    recall  f1-score   support\n",
      "\n",
      "           0       0.93      0.92      0.92        95\n",
      "           1       0.79      0.73      0.76        92\n",
      "           2       0.74      0.80      0.77        86\n",
      "           3       0.92      0.93      0.93        91\n",
      "\n",
      "    accuracy                           0.85       364\n",
      "   macro avg       0.84      0.85      0.84       364\n",
      "weighted avg       0.85      0.85      0.85       364\n",
      "\n"
     ]
    },
    {
     "data": {
      "image/png": "[encoded data removed]",
      "text/plain": [
       "<Figure size 432x288 with 1 Axes>"
      ]
     },
     "metadata": {},
     "output_type": "display_data"
    }
   ],
   "source": [
    "print('Gaussian Naive Bayes Classifier:', accuracy_score(y_valid, y_pred_gnb))\n",
    "print('**********************************************************************')\n",
    "cm_gb = my_confusion_matrix(y_valid, y_pred_gnb,'Gaussian NB confusion matrix')\n"
   ]
  },
  {
   "cell_type": "code",
   "execution_count": 24,
   "id": "2291dc45",
   "metadata": {},
   "outputs": [
    {
     "name": "stdout",
     "output_type": "stream",
     "text": [
      "GDBO_test_precision  0.79\n",
      "GDBO_test_recall  0.73\n",
      "GDBO_test_f1  0.76\n",
      "GDBO_test_acc  0.85\n"
     ]
    }
   ],
   "source": [
    "Nb_test_metrics=classification_report(y_valid, y_pred_gnb,output_dict=True)\n",
    "df=pd.DataFrame(Nb_test_metrics).transpose()\n",
    "nb_test_precision=round(df.loc[\"1\"][0],2)\n",
    "nb_test_recall=round(df.loc[\"1\"][1],2)\n",
    "nb_test_f1=round(df.loc[\"1\"][2],2)\n",
    "nb_test_acc=round(df.loc[\"accuracy\"][3],2)\n",
    "print ('GDBO_test_precision ',nb_test_precision)\n",
    "print ('GDBO_test_recall ',nb_test_recall)\n",
    "print ('GDBO_test_f1 ',nb_test_f1)\n",
    "print ('GDBO_test_acc ',nb_test_acc)"
   ]
  },
  {
   "cell_type": "markdown",
   "id": "7a44647b",
   "metadata": {},
   "source": [
    "# KNN Classifier"
   ]
  },
  {
   "cell_type": "code",
   "execution_count": 25,
   "id": "b590519a",
   "metadata": {},
   "outputs": [],
   "source": [
    "from sklearn.neighbors  import KNeighborsClassifier\n",
    "knn = KNeighborsClassifier(n_neighbors=3, leaf_size=25)"
   ]
  },
  {
   "cell_type": "code",
   "execution_count": 26,
   "id": "4bfa1864",
   "metadata": {},
   "outputs": [],
   "source": [
    "knn.fit(X_train, y_train)\n",
    "y_pred_knn = knn.predict(X_valid)"
   ]
  },
  {
   "cell_type": "code",
   "execution_count": 27,
   "id": "b7dbbcf6",
   "metadata": {},
   "outputs": [
    {
     "name": "stdout",
     "output_type": "stream",
     "text": [
      "Gaussian Naive Bayes Classifier: 0.9340659340659341\n",
      "**********************************************************************\n",
      "              precision    recall  f1-score   support\n",
      "\n",
      "           0       0.99      0.98      0.98        95\n",
      "           1       0.93      0.97      0.95        92\n",
      "           2       0.87      0.88      0.88        86\n",
      "           3       0.94      0.90      0.92        91\n",
      "\n",
      "    accuracy                           0.93       364\n",
      "   macro avg       0.93      0.93      0.93       364\n",
      "weighted avg       0.93      0.93      0.93       364\n",
      "\n"
     ]
    },
    {
     "data": {
      "image/png": "[encoded data removed]",
      "text/plain": [
       "<Figure size 432x288 with 1 Axes>"
      ]
     },
     "metadata": {},
     "output_type": "display_data"
    }
   ],
   "source": [
    "print('Gaussian Naive Bayes Classifier:', accuracy_score(y_valid, y_pred_knn))\n",
    "print('**********************************************************************')\n",
    "cm_knn = my_confusion_matrix(y_valid, y_pred_knn,'KNN confusion matrix')"
   ]
  },
  {
   "cell_type": "code",
   "execution_count": 28,
   "id": "46199667",
   "metadata": {},
   "outputs": [
    {
     "name": "stdout",
     "output_type": "stream",
     "text": [
      "GDBO_test_precision  0.93\n",
      "GDBO_test_recall  0.97\n",
      "GDBO_test_f1  0.95\n",
      "GDBO_test_acc  0.93\n"
     ]
    }
   ],
   "source": [
    "knn_test_metrics=classification_report(y_valid, y_pred_knn,output_dict=True)\n",
    "df=pd.DataFrame(knn_test_metrics).transpose()\n",
    "knn_test_precision=round(df.loc[\"1\"][0],2)\n",
    "knn_test_recall=round(df.loc[\"1\"][1],2)\n",
    "knn_test_f1=round(df.loc[\"1\"][2],2)\n",
    "knn_test_acc=round(df.loc[\"accuracy\"][3],2)\n",
    "print ('GDBO_test_precision ',knn_test_precision)\n",
    "print ('GDBO_test_recall ',knn_test_recall)\n",
    "print ('GDBO_test_f1 ',knn_test_f1)\n",
    "print ('GDBO_test_acc ',knn_test_acc)"
   ]
  },
  {
   "cell_type": "code",
   "execution_count": null,
   "id": "25128111",
   "metadata": {},
   "outputs": [],
   "source": []
  },
  {
   "cell_type": "markdown",
   "id": "3efbaa89",
   "metadata": {},
   "source": [
    "# XGBOOST classifier"
   ]
  },
  {
   "cell_type": "code",
   "execution_count": 29,
   "id": "e93b66a6",
   "metadata": {},
   "outputs": [
    {
     "name": "stdout",
     "output_type": "stream",
     "text": [
      "Requirement already satisfied: xgboost in c:\\users\\parthiban palanisamy\\anaconda3\\lib\\site-packages (1.7.1)\n",
      "Requirement already satisfied: numpy in c:\\users\\parthiban palanisamy\\anaconda3\\lib\\site-packages (from xgboost) (1.21.5)\n",
      "Requirement already satisfied: scipy in c:\\users\\parthiban palanisamy\\anaconda3\\lib\\site-packages (from xgboost) (1.7.3)\n",
      "Note: you may need to restart the kernel to use updated packages.\n"
     ]
    }
   ],
   "source": [
    "pip install xgboost"
   ]
  },
  {
   "cell_type": "code",
   "execution_count": 30,
   "id": "400609c7",
   "metadata": {},
   "outputs": [],
   "source": [
    "from xgboost import XGBClassifier\n",
    "xgbst = XGBClassifier(n_estimators=100, max_depth=20, learning_rate=1, objective='binary:logistic')"
   ]
  },
  {
   "cell_type": "code",
   "execution_count": 31,
   "id": "4862f35f",
   "metadata": {},
   "outputs": [],
   "source": [
    "xgbst.fit(X_train, y_train)\n",
    "y_pred_xgbst = xgbst.predict(X_valid)"
   ]
  },
  {
   "cell_type": "code",
   "execution_count": 32,
   "id": "c0d5a71f",
   "metadata": {},
   "outputs": [
    {
     "name": "stdout",
     "output_type": "stream",
     "text": [
      "XGBoost Classifier: 0.9285714285714286\n",
      "**********************************************************************\n",
      "              precision    recall  f1-score   support\n",
      "\n",
      "           0       0.99      0.95      0.97        95\n",
      "           1       0.91      0.93      0.92        92\n",
      "           2       0.87      0.91      0.89        86\n",
      "           3       0.95      0.92      0.94        91\n",
      "\n",
      "    accuracy                           0.93       364\n",
      "   macro avg       0.93      0.93      0.93       364\n",
      "weighted avg       0.93      0.93      0.93       364\n",
      "\n"
     ]
    },
    {
     "data": {
      "image/png": "[encoded data removed]",
      "text/plain": [
       "<Figure size 432x288 with 1 Axes>"
      ]
     },
     "metadata": {},
     "output_type": "display_data"
    }
   ],
   "source": [
    "print('XGBoost Classifier:', accuracy_score(y_valid, y_pred_xgbst))\n",
    "print('**********************************************************************')\n",
    "cm_xgbst = my_confusion_matrix(y_valid, y_pred_xgbst,'XGBoost confusion matrix')"
   ]
  },
  {
   "cell_type": "code",
   "execution_count": 33,
   "id": "f15f7083",
   "metadata": {},
   "outputs": [
    {
     "name": "stdout",
     "output_type": "stream",
     "text": [
      "GDBO_test_precision  0.91\n",
      "GDBO_test_recall  0.93\n",
      "GDBO_test_f1  0.92\n",
      "GDBO_test_acc  0.93\n"
     ]
    }
   ],
   "source": [
    "xgb_test_metrics=classification_report(y_valid, y_pred_xgbst,output_dict=True)\n",
    "df=pd.DataFrame(xgb_test_metrics).transpose()\n",
    "xgb_test_precision=round(df.loc[\"1\"][0],2)\n",
    "xgb_test_recall=round(df.loc[\"1\"][1],2)\n",
    "xgb_test_f1=round(df.loc[\"1\"][2],2)\n",
    "xgb_test_acc=round(df.loc[\"accuracy\"][3],2)\n",
    "print ('GDBO_test_precision ',xgb_test_precision)\n",
    "print ('GDBO_test_recall ',xgb_test_recall)\n",
    "print ('GDBO_test_f1 ',xgb_test_f1)\n",
    "print ('GDBO_test_acc ',xgb_test_acc)"
   ]
  },
  {
   "cell_type": "markdown",
   "id": "bb156b04",
   "metadata": {},
   "source": [
    "# SVM Classifier"
   ]
  },
  {
   "cell_type": "code",
   "execution_count": 34,
   "id": "a247da84",
   "metadata": {},
   "outputs": [],
   "source": [
    "from sklearn import svm\n",
    "svm_clf = svm.SVC(decision_function_shape='ovo')"
   ]
  },
  {
   "cell_type": "code",
   "execution_count": 35,
   "id": "682345b5",
   "metadata": {},
   "outputs": [],
   "source": [
    "svm_clf.fit(X_train, y_train)\n",
    "y_pred_svm=svm_clf.predict(X_valid)"
   ]
  },
  {
   "cell_type": "code",
   "execution_count": 36,
   "id": "9dcaf9db",
   "metadata": {},
   "outputs": [
    {
     "name": "stdout",
     "output_type": "stream",
     "text": [
      "SVM Classifier Accuracy Score:  0.9587912087912088\n",
      "              precision    recall  f1-score   support\n",
      "\n",
      "           0       0.98      0.98      0.98        95\n",
      "           1       0.93      0.97      0.95        92\n",
      "           2       0.94      0.93      0.94        86\n",
      "           3       0.99      0.96      0.97        91\n",
      "\n",
      "    accuracy                           0.96       364\n",
      "   macro avg       0.96      0.96      0.96       364\n",
      "weighted avg       0.96      0.96      0.96       364\n",
      "\n"
     ]
    },
    {
     "data": {
      "image/png": "[encoded data removed]",
      "text/plain": [
       "<Figure size 432x288 with 1 Axes>"
      ]
     },
     "metadata": {},
     "output_type": "display_data"
    }
   ],
   "source": [
    "print('SVM Classifier Accuracy Score: ',accuracy_score(y_valid,y_pred_svm))\n",
    "cm_rfc=my_confusion_matrix(y_valid, y_pred_svm, 'SVM Confusion Matrix')"
   ]
  },
  {
   "cell_type": "code",
   "execution_count": 37,
   "id": "144f342f",
   "metadata": {},
   "outputs": [
    {
     "name": "stdout",
     "output_type": "stream",
     "text": [
      "GDBO_test_precision  0.93\n",
      "GDBO_test_recall  0.97\n",
      "GDBO_test_f1  0.95\n",
      "GDBO_test_acc  0.96\n"
     ]
    }
   ],
   "source": [
    "svm_test_metrics=classification_report(y_valid, y_pred_svm,output_dict=True)\n",
    "df=pd.DataFrame(svm_test_metrics).transpose()\n",
    "svm_test_precision=round(df.loc[\"1\"][0],2)\n",
    "svm_test_recall=round(df.loc[\"1\"][1],2)\n",
    "svm_test_f1=round(df.loc[\"1\"][2],2)\n",
    "svm_test_acc=round(df.loc[\"accuracy\"][3],2)\n",
    "print ('GDBO_test_precision ',svm_test_precision)\n",
    "print ('GDBO_test_recall ',svm_test_recall)\n",
    "print ('GDBO_test_f1 ',svm_test_f1)\n",
    "print ('GDBO_test_acc ',svm_test_acc)"
   ]
  },
  {
   "cell_type": "markdown",
   "id": "75d13699",
   "metadata": {},
   "source": [
    "# ANN"
   ]
  },
  {
   "cell_type": "code",
   "execution_count": 38,
   "id": "865675a4",
   "metadata": {},
   "outputs": [],
   "source": [
    "#from scipy.stats import zscore\n",
    "from sklearn.neural_network import MLPClassifier"
   ]
  },
  {
   "cell_type": "code",
   "execution_count": 39,
   "id": "2d8b1113",
   "metadata": {},
   "outputs": [],
   "source": [
    "X_train, X_valid, y_train, y_valid = train_test_split(X, y, test_size = 0.2, random_state = 7)"
   ]
  },
  {
   "cell_type": "code",
   "execution_count": 40,
   "id": "5ca57722",
   "metadata": {},
   "outputs": [],
   "source": [
    "from sklearn.preprocessing import StandardScaler"
   ]
  },
  {
   "cell_type": "code",
   "execution_count": 41,
   "id": "c9df1560",
   "metadata": {},
   "outputs": [],
   "source": [
    "sc = StandardScaler()"
   ]
  },
  {
   "cell_type": "code",
   "execution_count": 42,
   "id": "4be0656a",
   "metadata": {},
   "outputs": [],
   "source": [
    "#Scale the training data\n",
    "X_train_scaled = sc.fit_transform(X_train)"
   ]
  },
  {
   "cell_type": "code",
   "execution_count": 43,
   "id": "276067e0",
   "metadata": {},
   "outputs": [
    {
     "data": {
      "text/plain": [
       "array([[ 0.55282224, -0.9863568 ,  1.84729485, ...,  0.55513611,\n",
       "         0.99315529, -1.01522579],\n",
       "       [ 0.82403725,  1.01383192, -1.23279917, ...,  0.55513611,\n",
       "        -1.00689188,  0.98500256],\n",
       "       [ 0.92659755,  1.01383192, -1.23279917, ...,  0.55513611,\n",
       "        -1.00689188,  0.98500256],\n",
       "       ...,\n",
       "       [-0.05114397, -0.9863568 , -0.61678037, ..., -1.80136003,\n",
       "         0.99315529,  0.98500256],\n",
       "       [ 0.51863547, -0.9863568 , -1.23279917, ...,  0.55513611,\n",
       "        -1.00689188, -1.01522579],\n",
       "       [-1.37075315, -0.9863568 , -1.10959541, ...,  0.55513611,\n",
       "         0.99315529, -1.01522579]])"
      ]
     },
     "execution_count": 43,
     "metadata": {},
     "output_type": "execute_result"
    }
   ],
   "source": [
    "X_train_scaled"
   ]
  },
  {
   "cell_type": "code",
   "execution_count": 44,
   "id": "28bfefa8",
   "metadata": {},
   "outputs": [],
   "source": [
    "# Apply the transformation on the test data\n",
    "X_valid_scaled = sc.transform(X_valid)"
   ]
  },
  {
   "cell_type": "code",
   "execution_count": 45,
   "id": "87d9258c",
   "metadata": {},
   "outputs": [
    {
     "data": {
      "text/plain": [
       "array([[-3.40591922e-01,  1.01383192e+00, -1.23279917e+00, ...,\n",
       "        -1.80136003e+00,  9.93155293e-01, -1.01522579e+00],\n",
       "       [ 1.67186906e+00,  1.01383192e+00, -7.61561708e-04, ...,\n",
       "         5.55136110e-01,  9.93155293e-01, -1.01522579e+00],\n",
       "       [ 1.18641698e+00, -9.86356796e-01, -1.10959541e+00, ...,\n",
       "         5.55136110e-01,  9.93155293e-01, -1.01522579e+00],\n",
       "       ...,\n",
       "       [-8.69347243e-01,  1.01383192e+00,  1.22442199e-01, ...,\n",
       "         5.55136110e-01, -1.00689188e+00, -1.01522579e+00],\n",
       "       [ 7.51105486e-01, -9.86356796e-01, -1.23965322e-01, ...,\n",
       "         5.55136110e-01,  9.93155293e-01, -1.01522579e+00],\n",
       "       [-3.97569866e-01,  1.01383192e+00,  1.10807228e+00, ...,\n",
       "         5.55136110e-01, -1.00689188e+00, -1.01522579e+00]])"
      ]
     },
     "execution_count": 45,
     "metadata": {},
     "output_type": "execute_result"
    }
   ],
   "source": [
    "X_valid_scaled"
   ]
  },
  {
   "cell_type": "code",
   "execution_count": 46,
   "id": "7af1e7d5",
   "metadata": {},
   "outputs": [],
   "source": [
    "ann = MLPClassifier(hidden_layer_sizes=100, max_iter=5000,\n",
    "                     solver='sgd', verbose=True,  random_state=21,tol=0.01)"
   ]
  },
  {
   "cell_type": "code",
   "execution_count": 47,
   "id": "a6343a9f",
   "metadata": {},
   "outputs": [
    {
     "name": "stdout",
     "output_type": "stream",
     "text": [
      "Iteration 1, loss = 1.52235111\n",
      "Iteration 2, loss = 1.50347373\n",
      "Iteration 3, loss = 1.47830260\n",
      "Iteration 4, loss = 1.45186998\n",
      "Iteration 5, loss = 1.42689733\n",
      "Iteration 6, loss = 1.40328154\n",
      "Iteration 7, loss = 1.38227641\n",
      "Iteration 8, loss = 1.36175803\n",
      "Iteration 9, loss = 1.34321814\n",
      "Iteration 10, loss = 1.32557734\n",
      "Iteration 11, loss = 1.30888199\n",
      "Iteration 12, loss = 1.29299168\n",
      "Iteration 13, loss = 1.27793076\n",
      "Iteration 14, loss = 1.26352361\n",
      "Iteration 15, loss = 1.24984710\n",
      "Iteration 16, loss = 1.23640432\n",
      "Iteration 17, loss = 1.22355390\n",
      "Iteration 18, loss = 1.21098461\n",
      "Iteration 19, loss = 1.19878902\n",
      "Iteration 20, loss = 1.18680418\n",
      "Iteration 21, loss = 1.17502518\n",
      "Iteration 22, loss = 1.16371230\n",
      "Iteration 23, loss = 1.15256976\n",
      "Iteration 24, loss = 1.14163341\n",
      "Iteration 25, loss = 1.13107644\n",
      "Iteration 26, loss = 1.12066656\n",
      "Iteration 27, loss = 1.11052413\n",
      "Iteration 28, loss = 1.10062776\n",
      "Iteration 29, loss = 1.09091800\n",
      "Iteration 30, loss = 1.08134827\n",
      "Iteration 31, loss = 1.07195151\n",
      "Iteration 32, loss = 1.06273584\n",
      "Iteration 33, loss = 1.05377373\n",
      "Iteration 34, loss = 1.04501881\n",
      "Iteration 35, loss = 1.03641196\n",
      "Iteration 36, loss = 1.02796042\n",
      "Iteration 37, loss = 1.01956860\n",
      "Iteration 38, loss = 1.01142158\n",
      "Training loss did not improve more than tol=0.010000 for 10 consecutive epochs. Stopping.\n"
     ]
    }
   ],
   "source": [
    "ann.fit(X_train_scaled, y_train)\n",
    "y_pred_ann=ann.predict(X_valid_scaled)"
   ]
  },
  {
   "cell_type": "code",
   "execution_count": 48,
   "id": "d1ab1458",
   "metadata": {},
   "outputs": [
    {
     "name": "stdout",
     "output_type": "stream",
     "text": [
      "ANN Classifier Accuracy Score:  0.6153846153846154\n",
      "              precision    recall  f1-score   support\n",
      "\n",
      "           0       0.62      0.89      0.73        95\n",
      "           1       0.63      0.28      0.39        92\n",
      "           2       0.56      0.43      0.49        86\n",
      "           3       0.64      0.84      0.72        91\n",
      "\n",
      "    accuracy                           0.62       364\n",
      "   macro avg       0.61      0.61      0.58       364\n",
      "weighted avg       0.61      0.62      0.59       364\n",
      "\n"
     ]
    },
    {
     "data": {
      "image/png": "[encoded data removed]",
      "text/plain": [
       "<Figure size 432x288 with 1 Axes>"
      ]
     },
     "metadata": {},
     "output_type": "display_data"
    }
   ],
   "source": [
    "print('ANN Classifier Accuracy Score: ',accuracy_score(y_valid,y_pred_ann))\n",
    "cm_ann=my_confusion_matrix(y_valid, y_pred_ann, 'ANN Confusion Matrix')"
   ]
  },
  {
   "cell_type": "code",
   "execution_count": 49,
   "id": "2956e725",
   "metadata": {},
   "outputs": [
    {
     "name": "stdout",
     "output_type": "stream",
     "text": [
      "GDBO_test_precision  0.63\n",
      "GDBO_test_recall  0.28\n",
      "GDBO_test_f1  0.39\n",
      "GDBO_test_acc  0.62\n"
     ]
    }
   ],
   "source": [
    "ann_test_metrics=classification_report(y_valid, y_pred_ann,output_dict=True)\n",
    "df=pd.DataFrame(ann_test_metrics).transpose()\n",
    "ann_test_precision=round(df.loc[\"1\"][0],2)\n",
    "ann_test_recall=round(df.loc[\"1\"][1],2)\n",
    "ann_test_f1=round(df.loc[\"1\"][2],2)\n",
    "ann_test_acc=round(df.loc[\"accuracy\"][3],2)\n",
    "print ('GDBO_test_precision ',ann_test_precision)\n",
    "print ('GDBO_test_recall ',ann_test_recall)\n",
    "print ('GDBO_test_f1 ',ann_test_f1)\n",
    "print ('GDBO_test_acc ',ann_test_acc)"
   ]
  },
  {
   "cell_type": "markdown",
   "id": "5f5d9716",
   "metadata": {},
   "source": [
    "# Ensemble learning - Bagging"
   ]
  },
  {
   "cell_type": "code",
   "execution_count": 50,
   "id": "2686f815",
   "metadata": {},
   "outputs": [],
   "source": [
    "from sklearn.ensemble import BaggingClassifier\n",
    "\n",
    "bgcl = BaggingClassifier(n_estimators=50,random_state=123)\n",
    "bgcl.fit(X_train, y_train)\n",
    "y_pred_bgcl=bgcl.predict(X_valid)\n"
   ]
  },
  {
   "cell_type": "code",
   "execution_count": 51,
   "id": "eede026d",
   "metadata": {},
   "outputs": [
    {
     "name": "stdout",
     "output_type": "stream",
     "text": [
      "Bgcl Classifier Accuracy Score:  0.9065934065934066\n",
      "              precision    recall  f1-score   support\n",
      "\n",
      "           0       0.96      0.97      0.96        95\n",
      "           1       0.91      0.90      0.91        92\n",
      "           2       0.82      0.87      0.85        86\n",
      "           3       0.93      0.88      0.90        91\n",
      "\n",
      "    accuracy                           0.91       364\n",
      "   macro avg       0.91      0.91      0.91       364\n",
      "weighted avg       0.91      0.91      0.91       364\n",
      "\n"
     ]
    },
    {
     "data": {
      "image/png": "[encoded data removed]",
      "text/plain": [
       "<Figure size 432x288 with 1 Axes>"
      ]
     },
     "metadata": {},
     "output_type": "display_data"
    }
   ],
   "source": [
    "print('Bgcl Classifier Accuracy Score: ',accuracy_score(y_valid,y_pred_bgcl))\n",
    "cm_bgcl=my_confusion_matrix(y_valid, y_pred_bgcl, 'Bgcl Confusion Matrix')"
   ]
  },
  {
   "cell_type": "code",
   "execution_count": 52,
   "id": "dd285c68",
   "metadata": {},
   "outputs": [
    {
     "name": "stdout",
     "output_type": "stream",
     "text": [
      "GDBO_test_precision  0.91\n",
      "GDBO_test_recall  0.9\n",
      "GDBO_test_f1  0.91\n",
      "GDBO_test_acc  0.91\n"
     ]
    }
   ],
   "source": [
    "bg_test_metrics=classification_report(y_valid, y_pred_bgcl,output_dict=True)\n",
    "df=pd.DataFrame(bg_test_metrics).transpose()\n",
    "bg_test_precision=round(df.loc[\"1\"][0],2)\n",
    "bg_test_recall=round(df.loc[\"1\"][1],2)\n",
    "bg_test_f1=round(df.loc[\"1\"][2],2)\n",
    "bg_test_acc=round(df.loc[\"accuracy\"][3],2)\n",
    "print ('GDBO_test_precision ',bg_test_precision)\n",
    "print ('GDBO_test_recall ',bg_test_recall)\n",
    "print ('GDBO_test_f1 ',bg_test_f1)\n",
    "print ('GDBO_test_acc ',bg_test_acc)"
   ]
  },
  {
   "cell_type": "markdown",
   "id": "a92d9b78",
   "metadata": {},
   "source": [
    "# Ensemble Learning - AdaBoosting"
   ]
  },
  {
   "cell_type": "code",
   "execution_count": 53,
   "id": "6a7d84f6",
   "metadata": {},
   "outputs": [],
   "source": [
    "from sklearn.ensemble import AdaBoostClassifier\n",
    "\n",
    "ada = AdaBoostClassifier(n_estimators = 100, random_state=1)\n",
    "\n",
    "ada.fit(X_train, y_train)\n",
    "y_pred_ada = ada.predict(X_valid)"
   ]
  },
  {
   "cell_type": "code",
   "execution_count": 54,
   "id": "de696885",
   "metadata": {},
   "outputs": [
    {
     "name": "stdout",
     "output_type": "stream",
     "text": [
      "ADA Classifier Accuracy Score:  0.6401098901098901\n",
      "              precision    recall  f1-score   support\n",
      "\n",
      "           0       0.97      0.29      0.45        95\n",
      "           1       0.53      0.90      0.66        92\n",
      "           2       0.59      0.91      0.71        86\n",
      "           3       1.00      0.48      0.65        91\n",
      "\n",
      "    accuracy                           0.64       364\n",
      "   macro avg       0.77      0.65      0.62       364\n",
      "weighted avg       0.77      0.64      0.62       364\n",
      "\n"
     ]
    },
    {
     "data": {
      "image/png": "[encoded data removed]",
      "text/plain": [
       "<Figure size 432x288 with 1 Axes>"
      ]
     },
     "metadata": {},
     "output_type": "display_data"
    }
   ],
   "source": [
    "print('ADA Classifier Accuracy Score: ',accuracy_score(y_valid,y_pred_ada))\n",
    "cm_ada=my_confusion_matrix(y_valid, y_pred_ada, 'ADA Confusion Matrix')"
   ]
  },
  {
   "cell_type": "code",
   "execution_count": 55,
   "id": "ec306a54",
   "metadata": {},
   "outputs": [
    {
     "name": "stdout",
     "output_type": "stream",
     "text": [
      "GDBO_test_precision  0.53\n",
      "GDBO_test_recall  0.9\n",
      "GDBO_test_f1  0.66\n",
      "GDBO_test_acc  0.64\n"
     ]
    }
   ],
   "source": [
    "ada_test_metrics=classification_report(y_valid, y_pred_ada,output_dict=True)\n",
    "df=pd.DataFrame(ada_test_metrics).transpose()\n",
    "ada_test_precision=round(df.loc[\"1\"][0],2)\n",
    "ada_test_recall=round(df.loc[\"1\"][1],2)\n",
    "ada_test_f1=round(df.loc[\"1\"][2],2)\n",
    "ada_test_acc=round(df.loc[\"accuracy\"][3],2)\n",
    "print ('GDBO_test_precision ',ada_test_precision)\n",
    "print ('GDBO_test_recall ',ada_test_recall)\n",
    "print ('GDBO_test_f1 ',ada_test_f1)\n",
    "print ('GDBO_test_acc ',ada_test_acc)"
   ]
  },
  {
   "cell_type": "markdown",
   "id": "eff9f0c9",
   "metadata": {},
   "source": [
    "# Ensemble Learning - GradientBoost"
   ]
  },
  {
   "cell_type": "code",
   "execution_count": 56,
   "id": "f308f547",
   "metadata": {},
   "outputs": [],
   "source": [
    "from sklearn.ensemble import GradientBoostingClassifier\n",
    "gbcl = GradientBoostingClassifier(n_estimators = 50,random_state=1)\n",
    "gbcl = gbcl.fit(X_train, y_train)\n",
    "y_pred_gb = gbcl.predict(X_valid)"
   ]
  },
  {
   "cell_type": "code",
   "execution_count": 57,
   "id": "bdee0c5d",
   "metadata": {},
   "outputs": [
    {
     "name": "stdout",
     "output_type": "stream",
     "text": [
      "GB Classifier Accuracy Score:  0.9258241758241759\n",
      "              precision    recall  f1-score   support\n",
      "\n",
      "           0       0.96      0.96      0.96        95\n",
      "           1       0.90      0.91      0.91        92\n",
      "           2       0.89      0.90      0.89        86\n",
      "           3       0.96      0.93      0.94        91\n",
      "\n",
      "    accuracy                           0.93       364\n",
      "   macro avg       0.93      0.93      0.93       364\n",
      "weighted avg       0.93      0.93      0.93       364\n",
      "\n"
     ]
    },
    {
     "data": {
      "image/png": "[encoded data removed]",
      "text/plain": [
       "<Figure size 432x288 with 1 Axes>"
      ]
     },
     "metadata": {},
     "output_type": "display_data"
    }
   ],
   "source": [
    "print('GB Classifier Accuracy Score: ',accuracy_score(y_valid,y_pred_gb))\n",
    "cm_gb=my_confusion_matrix(y_valid, y_pred_gb, 'GB Confusion Matrix')"
   ]
  },
  {
   "cell_type": "code",
   "execution_count": 58,
   "id": "e7bd8618",
   "metadata": {},
   "outputs": [
    {
     "name": "stdout",
     "output_type": "stream",
     "text": [
      "GDBO_test_precision  0.9\n",
      "GDBO_test_recall  0.91\n",
      "GDBO_test_f1  0.91\n",
      "GDBO_test_acc  0.93\n"
     ]
    }
   ],
   "source": [
    "gb_test_metrics=classification_report(y_valid, y_pred_gb,output_dict=True)\n",
    "df=pd.DataFrame(gb_test_metrics).transpose()\n",
    "gb_test_precision=round(df.loc[\"1\"][0],2)\n",
    "gb_test_recall=round(df.loc[\"1\"][1],2)\n",
    "gb_test_f1=round(df.loc[\"1\"][2],2)\n",
    "gb_test_acc=round(df.loc[\"accuracy\"][3],2)\n",
    "print ('GDBO_test_precision ',gb_test_precision)\n",
    "print ('GDBO_test_recall ',gb_test_recall)\n",
    "print ('GDBO_test_f1 ',gb_test_f1)\n",
    "print ('GDBO_test_acc ',gb_test_acc)"
   ]
  },
  {
   "cell_type": "code",
   "execution_count": 59,
   "id": "32710c05",
   "metadata": {},
   "outputs": [
    {
     "data": {
      "text/html": [
       "<div>\n",
       "<style scoped>\n",
       "    .dataframe tbody tr th:only-of-type {\n",
       "        vertical-align: middle;\n",
       "    }\n",
       "\n",
       "    .dataframe tbody tr th {\n",
       "        vertical-align: top;\n",
       "    }\n",
       "\n",
       "    .dataframe thead th {\n",
       "        text-align: right;\n",
       "    }\n",
       "</style>\n",
       "<table border=\"1\" class=\"dataframe\">\n",
       "  <thead>\n",
       "    <tr style=\"text-align: right;\">\n",
       "      <th></th>\n",
       "      <th>Test Scores</th>\n",
       "    </tr>\n",
       "  </thead>\n",
       "  <tbody>\n",
       "    <tr>\n",
       "      <th>RandomFores</th>\n",
       "      <td>0.91</td>\n",
       "    </tr>\n",
       "    <tr>\n",
       "      <th>NaiveBayes</th>\n",
       "      <td>0.85</td>\n",
       "    </tr>\n",
       "    <tr>\n",
       "      <th>KNN</th>\n",
       "      <td>0.93</td>\n",
       "    </tr>\n",
       "    <tr>\n",
       "      <th>XGB</th>\n",
       "      <td>0.93</td>\n",
       "    </tr>\n",
       "    <tr>\n",
       "      <th>SVM</th>\n",
       "      <td>0.96</td>\n",
       "    </tr>\n",
       "    <tr>\n",
       "      <th>ANN</th>\n",
       "      <td>0.62</td>\n",
       "    </tr>\n",
       "    <tr>\n",
       "      <th>BG</th>\n",
       "      <td>0.91</td>\n",
       "    </tr>\n",
       "    <tr>\n",
       "      <th>Ada</th>\n",
       "      <td>0.64</td>\n",
       "    </tr>\n",
       "    <tr>\n",
       "      <th>GB</th>\n",
       "      <td>0.93</td>\n",
       "    </tr>\n",
       "  </tbody>\n",
       "</table>\n",
       "</div>"
      ],
      "text/plain": [
       "             Test Scores\n",
       "RandomFores         0.91\n",
       "NaiveBayes          0.85\n",
       "KNN                 0.93\n",
       "XGB                 0.93\n",
       "SVM                 0.96\n",
       "ANN                 0.62\n",
       "BG                  0.91\n",
       "Ada                 0.64\n",
       "GB                  0.93"
      ]
     },
     "execution_count": 59,
     "metadata": {},
     "output_type": "execute_result"
    }
   ],
   "source": [
    "index = ['RandomFores','NaiveBayes','KNN','XGB','SVM','ANN','BG','Ada','GB']\n",
    "\n",
    "data = pd.DataFrame({'Test Scores': [rf_test_acc,nb_test_acc,knn_test_acc,xgb_test_acc,svm_test_acc,ann_test_acc,bg_test_acc,ada_test_acc,\n",
    "gb_test_acc]},index=index)\n",
    "\n",
    "round(data,4)"
   ]
  },
  {
   "cell_type": "markdown",
   "id": "387bb538",
   "metadata": {},
   "source": [
    "# Price prediction of Test.csv Using KNN for Prediction"
   ]
  },
  {
   "cell_type": "markdown",
   "id": "952b2a6c",
   "metadata": {},
   "source": [
    "# importing test csv set"
   ]
  },
  {
   "cell_type": "code",
   "execution_count": 60,
   "id": "cfc15dfb",
   "metadata": {},
   "outputs": [
    {
     "data": {
      "text/html": [
       "<div>\n",
       "<style scoped>\n",
       "    .dataframe tbody tr th:only-of-type {\n",
       "        vertical-align: middle;\n",
       "    }\n",
       "\n",
       "    .dataframe tbody tr th {\n",
       "        vertical-align: top;\n",
       "    }\n",
       "\n",
       "    .dataframe thead th {\n",
       "        text-align: right;\n",
       "    }\n",
       "</style>\n",
       "<table border=\"1\" class=\"dataframe\">\n",
       "  <thead>\n",
       "    <tr style=\"text-align: right;\">\n",
       "      <th></th>\n",
       "      <th>battery_power</th>\n",
       "      <th>blue</th>\n",
       "      <th>clock_speed</th>\n",
       "      <th>dual_sim</th>\n",
       "      <th>fc</th>\n",
       "      <th>four_g</th>\n",
       "      <th>int_memory</th>\n",
       "      <th>m_dep</th>\n",
       "      <th>mobile_wt</th>\n",
       "      <th>n_cores</th>\n",
       "      <th>...</th>\n",
       "      <th>px_height</th>\n",
       "      <th>px_width</th>\n",
       "      <th>ram</th>\n",
       "      <th>sc_h</th>\n",
       "      <th>sc_w</th>\n",
       "      <th>talk_time</th>\n",
       "      <th>three_g</th>\n",
       "      <th>touch_screen</th>\n",
       "      <th>wifi</th>\n",
       "      <th>Price_Range</th>\n",
       "    </tr>\n",
       "  </thead>\n",
       "  <tbody>\n",
       "    <tr>\n",
       "      <th>0</th>\n",
       "      <td>1043</td>\n",
       "      <td>1</td>\n",
       "      <td>1.8</td>\n",
       "      <td>1</td>\n",
       "      <td>14</td>\n",
       "      <td>0</td>\n",
       "      <td>5</td>\n",
       "      <td>0.1</td>\n",
       "      <td>193</td>\n",
       "      <td>3</td>\n",
       "      <td>...</td>\n",
       "      <td>226</td>\n",
       "      <td>1412</td>\n",
       "      <td>3476</td>\n",
       "      <td>12</td>\n",
       "      <td>7</td>\n",
       "      <td>2</td>\n",
       "      <td>0</td>\n",
       "      <td>1</td>\n",
       "      <td>0</td>\n",
       "      <td>3</td>\n",
       "    </tr>\n",
       "    <tr>\n",
       "      <th>1</th>\n",
       "      <td>841</td>\n",
       "      <td>1</td>\n",
       "      <td>0.5</td>\n",
       "      <td>1</td>\n",
       "      <td>4</td>\n",
       "      <td>1</td>\n",
       "      <td>61</td>\n",
       "      <td>0.8</td>\n",
       "      <td>191</td>\n",
       "      <td>5</td>\n",
       "      <td>...</td>\n",
       "      <td>746</td>\n",
       "      <td>857</td>\n",
       "      <td>3895</td>\n",
       "      <td>6</td>\n",
       "      <td>0</td>\n",
       "      <td>7</td>\n",
       "      <td>1</td>\n",
       "      <td>0</td>\n",
       "      <td>0</td>\n",
       "      <td>3</td>\n",
       "    </tr>\n",
       "    <tr>\n",
       "      <th>2</th>\n",
       "      <td>1807</td>\n",
       "      <td>1</td>\n",
       "      <td>2.8</td>\n",
       "      <td>0</td>\n",
       "      <td>1</td>\n",
       "      <td>0</td>\n",
       "      <td>27</td>\n",
       "      <td>0.9</td>\n",
       "      <td>186</td>\n",
       "      <td>3</td>\n",
       "      <td>...</td>\n",
       "      <td>1270</td>\n",
       "      <td>1366</td>\n",
       "      <td>2396</td>\n",
       "      <td>17</td>\n",
       "      <td>10</td>\n",
       "      <td>10</td>\n",
       "      <td>0</td>\n",
       "      <td>1</td>\n",
       "      <td>1</td>\n",
       "      <td>3</td>\n",
       "    </tr>\n",
       "    <tr>\n",
       "      <th>3</th>\n",
       "      <td>1546</td>\n",
       "      <td>0</td>\n",
       "      <td>0.5</td>\n",
       "      <td>1</td>\n",
       "      <td>18</td>\n",
       "      <td>1</td>\n",
       "      <td>25</td>\n",
       "      <td>0.5</td>\n",
       "      <td>96</td>\n",
       "      <td>8</td>\n",
       "      <td>...</td>\n",
       "      <td>295</td>\n",
       "      <td>1752</td>\n",
       "      <td>3893</td>\n",
       "      <td>10</td>\n",
       "      <td>0</td>\n",
       "      <td>7</td>\n",
       "      <td>1</td>\n",
       "      <td>1</td>\n",
       "      <td>0</td>\n",
       "      <td>3</td>\n",
       "    </tr>\n",
       "    <tr>\n",
       "      <th>4</th>\n",
       "      <td>1434</td>\n",
       "      <td>0</td>\n",
       "      <td>1.4</td>\n",
       "      <td>0</td>\n",
       "      <td>11</td>\n",
       "      <td>1</td>\n",
       "      <td>49</td>\n",
       "      <td>0.5</td>\n",
       "      <td>108</td>\n",
       "      <td>6</td>\n",
       "      <td>...</td>\n",
       "      <td>749</td>\n",
       "      <td>810</td>\n",
       "      <td>1773</td>\n",
       "      <td>15</td>\n",
       "      <td>8</td>\n",
       "      <td>7</td>\n",
       "      <td>1</td>\n",
       "      <td>0</td>\n",
       "      <td>1</td>\n",
       "      <td>1</td>\n",
       "    </tr>\n",
       "  </tbody>\n",
       "</table>\n",
       "<p>5 rows × 21 columns</p>\n",
       "</div>"
      ],
      "text/plain": [
       "   battery_power  blue  clock_speed  dual_sim  fc  four_g  int_memory  m_dep  \\\n",
       "0           1043     1          1.8         1  14       0           5    0.1   \n",
       "1            841     1          0.5         1   4       1          61    0.8   \n",
       "2           1807     1          2.8         0   1       0          27    0.9   \n",
       "3           1546     0          0.5         1  18       1          25    0.5   \n",
       "4           1434     0          1.4         0  11       1          49    0.5   \n",
       "\n",
       "   mobile_wt  n_cores  ...  px_height  px_width   ram  sc_h  sc_w  talk_time  \\\n",
       "0        193        3  ...        226      1412  3476    12     7          2   \n",
       "1        191        5  ...        746       857  3895     6     0          7   \n",
       "2        186        3  ...       1270      1366  2396    17    10         10   \n",
       "3         96        8  ...        295      1752  3893    10     0          7   \n",
       "4        108        6  ...        749       810  1773    15     8          7   \n",
       "\n",
       "   three_g  touch_screen  wifi  Price_Range  \n",
       "0        0             1     0            3  \n",
       "1        1             0     0            3  \n",
       "2        0             1     1            3  \n",
       "3        1             1     0            3  \n",
       "4        1             0     1            1  \n",
       "\n",
       "[5 rows x 21 columns]"
      ]
     },
     "execution_count": 60,
     "metadata": {},
     "output_type": "execute_result"
    }
   ],
   "source": [
    "test_data = pd.read_csv('D:/Mobile price prediction/test.csv')\n",
    "testing_data = pd.read_csv('D:/Mobile price prediction/testing_data.csv')\n",
    "test_data.head()"
   ]
  },
  {
   "cell_type": "markdown",
   "id": "cd1d0375",
   "metadata": {},
   "source": [
    "# Dropping id column from the dataset"
   ]
  },
  {
   "cell_type": "code",
   "execution_count": 61,
   "id": "d89572db",
   "metadata": {},
   "outputs": [
    {
     "data": {
      "text/html": [
       "<div>\n",
       "<style scoped>\n",
       "    .dataframe tbody tr th:only-of-type {\n",
       "        vertical-align: middle;\n",
       "    }\n",
       "\n",
       "    .dataframe tbody tr th {\n",
       "        vertical-align: top;\n",
       "    }\n",
       "\n",
       "    .dataframe thead th {\n",
       "        text-align: right;\n",
       "    }\n",
       "</style>\n",
       "<table border=\"1\" class=\"dataframe\">\n",
       "  <thead>\n",
       "    <tr style=\"text-align: right;\">\n",
       "      <th></th>\n",
       "      <th>battery_power</th>\n",
       "      <th>blue</th>\n",
       "      <th>clock_speed</th>\n",
       "      <th>dual_sim</th>\n",
       "      <th>fc</th>\n",
       "      <th>four_g</th>\n",
       "      <th>int_memory</th>\n",
       "      <th>m_dep</th>\n",
       "      <th>mobile_wt</th>\n",
       "      <th>n_cores</th>\n",
       "      <th>pc</th>\n",
       "      <th>px_height</th>\n",
       "      <th>px_width</th>\n",
       "      <th>ram</th>\n",
       "      <th>sc_h</th>\n",
       "      <th>sc_w</th>\n",
       "      <th>talk_time</th>\n",
       "      <th>three_g</th>\n",
       "      <th>touch_screen</th>\n",
       "      <th>wifi</th>\n",
       "    </tr>\n",
       "  </thead>\n",
       "  <tbody>\n",
       "    <tr>\n",
       "      <th>0</th>\n",
       "      <td>1043</td>\n",
       "      <td>1</td>\n",
       "      <td>1.8</td>\n",
       "      <td>1</td>\n",
       "      <td>14</td>\n",
       "      <td>0</td>\n",
       "      <td>5</td>\n",
       "      <td>0.1</td>\n",
       "      <td>193</td>\n",
       "      <td>3</td>\n",
       "      <td>16</td>\n",
       "      <td>226</td>\n",
       "      <td>1412</td>\n",
       "      <td>3476</td>\n",
       "      <td>12</td>\n",
       "      <td>7</td>\n",
       "      <td>2</td>\n",
       "      <td>0</td>\n",
       "      <td>1</td>\n",
       "      <td>0</td>\n",
       "    </tr>\n",
       "    <tr>\n",
       "      <th>1</th>\n",
       "      <td>841</td>\n",
       "      <td>1</td>\n",
       "      <td>0.5</td>\n",
       "      <td>1</td>\n",
       "      <td>4</td>\n",
       "      <td>1</td>\n",
       "      <td>61</td>\n",
       "      <td>0.8</td>\n",
       "      <td>191</td>\n",
       "      <td>5</td>\n",
       "      <td>12</td>\n",
       "      <td>746</td>\n",
       "      <td>857</td>\n",
       "      <td>3895</td>\n",
       "      <td>6</td>\n",
       "      <td>0</td>\n",
       "      <td>7</td>\n",
       "      <td>1</td>\n",
       "      <td>0</td>\n",
       "      <td>0</td>\n",
       "    </tr>\n",
       "    <tr>\n",
       "      <th>2</th>\n",
       "      <td>1807</td>\n",
       "      <td>1</td>\n",
       "      <td>2.8</td>\n",
       "      <td>0</td>\n",
       "      <td>1</td>\n",
       "      <td>0</td>\n",
       "      <td>27</td>\n",
       "      <td>0.9</td>\n",
       "      <td>186</td>\n",
       "      <td>3</td>\n",
       "      <td>4</td>\n",
       "      <td>1270</td>\n",
       "      <td>1366</td>\n",
       "      <td>2396</td>\n",
       "      <td>17</td>\n",
       "      <td>10</td>\n",
       "      <td>10</td>\n",
       "      <td>0</td>\n",
       "      <td>1</td>\n",
       "      <td>1</td>\n",
       "    </tr>\n",
       "    <tr>\n",
       "      <th>3</th>\n",
       "      <td>1546</td>\n",
       "      <td>0</td>\n",
       "      <td>0.5</td>\n",
       "      <td>1</td>\n",
       "      <td>18</td>\n",
       "      <td>1</td>\n",
       "      <td>25</td>\n",
       "      <td>0.5</td>\n",
       "      <td>96</td>\n",
       "      <td>8</td>\n",
       "      <td>20</td>\n",
       "      <td>295</td>\n",
       "      <td>1752</td>\n",
       "      <td>3893</td>\n",
       "      <td>10</td>\n",
       "      <td>0</td>\n",
       "      <td>7</td>\n",
       "      <td>1</td>\n",
       "      <td>1</td>\n",
       "      <td>0</td>\n",
       "    </tr>\n",
       "    <tr>\n",
       "      <th>4</th>\n",
       "      <td>1434</td>\n",
       "      <td>0</td>\n",
       "      <td>1.4</td>\n",
       "      <td>0</td>\n",
       "      <td>11</td>\n",
       "      <td>1</td>\n",
       "      <td>49</td>\n",
       "      <td>0.5</td>\n",
       "      <td>108</td>\n",
       "      <td>6</td>\n",
       "      <td>18</td>\n",
       "      <td>749</td>\n",
       "      <td>810</td>\n",
       "      <td>1773</td>\n",
       "      <td>15</td>\n",
       "      <td>8</td>\n",
       "      <td>7</td>\n",
       "      <td>1</td>\n",
       "      <td>0</td>\n",
       "      <td>1</td>\n",
       "    </tr>\n",
       "  </tbody>\n",
       "</table>\n",
       "</div>"
      ],
      "text/plain": [
       "   battery_power  blue  clock_speed  dual_sim  fc  four_g  int_memory  m_dep  \\\n",
       "0           1043     1          1.8         1  14       0           5    0.1   \n",
       "1            841     1          0.5         1   4       1          61    0.8   \n",
       "2           1807     1          2.8         0   1       0          27    0.9   \n",
       "3           1546     0          0.5         1  18       1          25    0.5   \n",
       "4           1434     0          1.4         0  11       1          49    0.5   \n",
       "\n",
       "   mobile_wt  n_cores  pc  px_height  px_width   ram  sc_h  sc_w  talk_time  \\\n",
       "0        193        3  16        226      1412  3476    12     7          2   \n",
       "1        191        5  12        746       857  3895     6     0          7   \n",
       "2        186        3   4       1270      1366  2396    17    10         10   \n",
       "3         96        8  20        295      1752  3893    10     0          7   \n",
       "4        108        6  18        749       810  1773    15     8          7   \n",
       "\n",
       "   three_g  touch_screen  wifi  \n",
       "0        0             1     0  \n",
       "1        1             0     0  \n",
       "2        0             1     1  \n",
       "3        1             1     0  \n",
       "4        1             0     1  "
      ]
     },
     "execution_count": 61,
     "metadata": {},
     "output_type": "execute_result"
    }
   ],
   "source": [
    "test_new = test_data.drop(['Price_Range'],axis=1)\n",
    "test_new.head()"
   ]
  },
  {
   "cell_type": "markdown",
   "id": "4dc287df",
   "metadata": {},
   "source": [
    "# Predicting price by using best algorthim (here SVM)"
   ]
  },
  {
   "cell_type": "code",
   "execution_count": 62,
   "id": "0ef4b764",
   "metadata": {},
   "outputs": [],
   "source": [
    "predicted_price = svm_clf.predict(test_new)"
   ]
  },
  {
   "cell_type": "code",
   "execution_count": 63,
   "id": "f3c72dca",
   "metadata": {},
   "outputs": [
    {
     "data": {
      "text/plain": [
       "array([3, 3, 3, 3, 1, 3, 3, 1, 3, 0, 3, 3, 0, 0, 2, 0, 2, 1, 3, 2, 1, 3,\n",
       "       1, 1, 3, 0, 2, 0, 3, 0, 2, 0, 3, 0, 0, 1, 3, 1, 2, 1, 1, 2, 0, 0,\n",
       "       0, 1, 0, 3, 1, 2, 1, 0, 3, 0, 3, 1, 3, 1, 1, 3, 3, 3, 0, 1, 0, 1,\n",
       "       1, 3, 1, 2, 1, 2, 2, 3, 3, 0, 2, 0, 2, 3, 0, 3, 3, 0, 3, 0, 3, 1,\n",
       "       3, 0, 1, 2, 2, 0, 2, 2, 0, 2, 1, 2, 1, 0, 0, 3, 0, 2, 0, 1, 2, 3,\n",
       "       3, 3, 1, 3, 3, 3, 3, 2, 3, 0, 0, 3, 2, 1, 2, 0, 3, 2, 3, 1, 0, 2,\n",
       "       1, 1, 3, 1, 1, 0, 3, 2, 1, 2, 1, 2, 2, 3, 3, 3, 2, 3, 2, 3, 1, 0,\n",
       "       3, 2, 3, 3, 3, 3, 2, 2, 3, 3, 3, 3, 1, 0, 3, 0, 0, 0, 2, 1, 0, 1,\n",
       "       0, 0, 1, 2, 1, 0, 0, 1, 1, 2, 2, 1, 0, 0, 0, 1, 0, 3, 1, 0, 2, 2,\n",
       "       3, 3, 1, 1, 3, 2, 3, 2, 2, 1, 0, 0, 1, 3, 0, 2, 3, 3, 0, 2, 0, 3,\n",
       "       2, 3, 3, 1, 0, 1, 0, 3, 0, 1, 0, 2, 2, 1, 2, 0, 3, 0, 3, 1, 2, 0,\n",
       "       0, 2, 1, 3, 3, 3, 1, 1, 3, 0, 0, 2, 3, 3, 1, 3, 1, 1, 3, 2, 1, 2,\n",
       "       3, 3, 3, 1, 0, 1, 2, 3, 1, 1, 3, 2, 0, 3, 0, 0, 2, 0, 0, 3, 2, 3,\n",
       "       3, 2, 1, 3, 3, 2, 3, 1, 2, 1, 2, 0, 2, 3, 1, 0, 0, 3, 0, 3, 0, 1,\n",
       "       2, 0, 2, 3, 1, 3, 2, 2, 1, 2, 0, 0, 0, 1, 3, 2, 0, 0, 0, 3, 2, 0,\n",
       "       2, 3, 1, 2, 2, 2, 3, 1, 3, 3, 2, 2, 2, 3, 3, 0, 3, 0, 3, 1, 3, 1,\n",
       "       3, 3, 0, 1, 0, 3, 1, 3, 2, 3, 0, 0, 0, 0, 2, 0, 0, 2, 2, 1, 2, 2,\n",
       "       2, 0, 1, 0, 0, 3, 2, 0, 3, 1, 2, 2, 1, 2, 3, 1, 1, 2, 2, 1, 2, 0,\n",
       "       1, 1, 0, 3, 2, 0, 0, 1, 0, 0, 1, 1, 0, 0, 0, 2, 2, 3, 2, 3, 0, 3,\n",
       "       0, 3, 0, 1, 1, 1, 2, 0, 3, 2, 3, 3, 1, 3, 1, 3, 1, 3, 2, 0, 1, 2,\n",
       "       1, 1, 0, 0, 0, 1, 2, 1, 0, 3, 2, 0, 2, 2, 0, 0, 3, 1, 2, 0, 3, 3,\n",
       "       3, 0, 3, 0, 2, 3, 3, 3, 0, 2, 0, 2, 3, 0, 1, 1, 0, 0, 1, 1, 1, 3,\n",
       "       3, 3, 2, 3, 1, 2, 2, 3, 3, 3, 2, 0, 2, 1, 2, 2, 1, 0, 2, 2, 0, 0,\n",
       "       0, 3, 1, 0, 2, 2, 2, 0, 3, 0, 2, 2, 1, 3, 0, 2, 3, 0, 1, 1, 3, 3,\n",
       "       1, 1, 1, 3, 2, 0, 3, 1, 2, 0, 3, 3, 1, 3, 2, 2, 3, 0, 1, 2, 3, 1,\n",
       "       3, 2, 3, 1, 1, 1, 0, 3, 1, 0, 3, 2, 3, 2, 0, 3, 3, 3, 2, 3, 3, 1,\n",
       "       2, 0, 2, 2, 3, 1, 0, 1, 1, 2, 2, 1, 0, 0, 2, 2, 3, 2, 0, 2, 1, 3,\n",
       "       3, 0, 1, 3, 0, 2, 1, 1, 0, 0, 2, 1, 0, 1, 1, 2, 2, 0, 2, 2, 1, 0,\n",
       "       3, 0, 0, 3, 2, 0, 0, 0, 0, 0, 3, 0, 3, 1, 3, 2, 1, 3, 3, 0, 1, 1,\n",
       "       3, 2, 2, 2, 0, 3, 0, 2, 0, 2, 0, 0, 1, 1, 1, 2, 1, 3, 1, 3, 2, 2,\n",
       "       1, 3, 2, 0, 1, 2, 0, 3, 3, 0, 2, 1, 1, 2, 0, 3, 2, 0, 3, 2, 3, 0,\n",
       "       0, 3, 0, 2, 2, 3, 2, 2, 2, 2, 1, 2, 3, 0, 1, 0, 1, 2, 1, 0, 0, 1,\n",
       "       0, 0, 3, 0, 1, 2, 0, 0, 1, 1, 3, 0, 3, 2, 3, 0, 0, 1, 2, 2, 1, 0,\n",
       "       1, 1, 0, 1, 1, 0, 0, 3, 3, 0, 3, 1, 1, 3, 0, 1, 0, 2, 2, 0, 3, 1,\n",
       "       0, 3, 0, 1, 0, 3, 3, 3, 2, 3, 0, 3, 2, 0, 0, 0, 3, 3, 2, 0, 2, 1,\n",
       "       3, 0, 0, 3, 2, 0, 3, 1, 2, 1, 1, 1, 3, 1, 1, 1, 2, 1, 0, 2, 2, 0,\n",
       "       2, 0, 0, 0, 0, 2, 3, 3, 3, 0, 1, 2, 1, 1, 0, 0, 2, 1, 0, 2, 0, 3,\n",
       "       2, 2, 1, 2, 0, 2, 1, 3, 0, 0, 3, 2, 3, 0, 0, 2, 3, 3, 1, 2, 2, 1,\n",
       "       0, 0, 3, 3, 0, 3, 0, 0, 0, 2, 2, 1, 2, 0, 3, 3, 1, 2, 3, 3, 0, 1,\n",
       "       1, 2, 1, 2, 2, 0, 1, 3, 1, 1, 3, 1, 2, 3, 2, 1, 1, 1, 3, 3, 0, 2,\n",
       "       3, 0, 2, 3, 3, 2, 2, 3, 2, 0, 1, 2, 0, 2, 1, 1, 2, 2, 2, 1, 2, 1,\n",
       "       0, 1, 3, 1, 0, 1, 2, 3, 1, 0, 0, 3, 2, 2, 3, 0, 3, 3, 2, 1, 3, 0,\n",
       "       1, 3, 1, 1, 1, 1, 3, 2, 0, 3, 0, 2, 3, 0, 3, 2, 3, 3, 1, 0, 2, 3,\n",
       "       1, 0, 2, 1, 2, 1, 2, 0, 2, 2, 0, 2, 3, 2, 3, 0, 2, 1, 1, 2, 2, 3,\n",
       "       3, 0, 2, 1, 2, 1, 3, 0, 1, 3, 0, 1, 0, 0, 3, 3, 2, 0, 0, 0, 0, 3,\n",
       "       2, 3, 3, 0, 0, 2, 1, 0, 2, 2], dtype=int64)"
      ]
     },
     "execution_count": 63,
     "metadata": {},
     "output_type": "execute_result"
    }
   ],
   "source": [
    "predicted_price"
   ]
  },
  {
   "cell_type": "code",
   "execution_count": 64,
   "id": "2a912f01",
   "metadata": {},
   "outputs": [
    {
     "data": {
      "text/html": [
       "<div>\n",
       "<style scoped>\n",
       "    .dataframe tbody tr th:only-of-type {\n",
       "        vertical-align: middle;\n",
       "    }\n",
       "\n",
       "    .dataframe tbody tr th {\n",
       "        vertical-align: top;\n",
       "    }\n",
       "\n",
       "    .dataframe thead th {\n",
       "        text-align: right;\n",
       "    }\n",
       "</style>\n",
       "<table border=\"1\" class=\"dataframe\">\n",
       "  <thead>\n",
       "    <tr style=\"text-align: right;\">\n",
       "      <th></th>\n",
       "      <th>battery_power</th>\n",
       "      <th>blue</th>\n",
       "      <th>clock_speed</th>\n",
       "      <th>dual_sim</th>\n",
       "      <th>fc</th>\n",
       "      <th>four_g</th>\n",
       "      <th>int_memory</th>\n",
       "      <th>m_dep</th>\n",
       "      <th>mobile_wt</th>\n",
       "      <th>n_cores</th>\n",
       "      <th>pc</th>\n",
       "      <th>px_height</th>\n",
       "      <th>px_width</th>\n",
       "      <th>ram</th>\n",
       "      <th>sc_h</th>\n",
       "      <th>sc_w</th>\n",
       "      <th>talk_time</th>\n",
       "      <th>three_g</th>\n",
       "      <th>touch_screen</th>\n",
       "      <th>wifi</th>\n",
       "    </tr>\n",
       "  </thead>\n",
       "  <tbody>\n",
       "    <tr>\n",
       "      <th>0</th>\n",
       "      <td>1043</td>\n",
       "      <td>1</td>\n",
       "      <td>1.8</td>\n",
       "      <td>1</td>\n",
       "      <td>14</td>\n",
       "      <td>0</td>\n",
       "      <td>5</td>\n",
       "      <td>0.1</td>\n",
       "      <td>193</td>\n",
       "      <td>3</td>\n",
       "      <td>16</td>\n",
       "      <td>226</td>\n",
       "      <td>1412</td>\n",
       "      <td>3476</td>\n",
       "      <td>12</td>\n",
       "      <td>7</td>\n",
       "      <td>2</td>\n",
       "      <td>0</td>\n",
       "      <td>1</td>\n",
       "      <td>0</td>\n",
       "    </tr>\n",
       "    <tr>\n",
       "      <th>1</th>\n",
       "      <td>841</td>\n",
       "      <td>1</td>\n",
       "      <td>0.5</td>\n",
       "      <td>1</td>\n",
       "      <td>4</td>\n",
       "      <td>1</td>\n",
       "      <td>61</td>\n",
       "      <td>0.8</td>\n",
       "      <td>191</td>\n",
       "      <td>5</td>\n",
       "      <td>12</td>\n",
       "      <td>746</td>\n",
       "      <td>857</td>\n",
       "      <td>3895</td>\n",
       "      <td>6</td>\n",
       "      <td>0</td>\n",
       "      <td>7</td>\n",
       "      <td>1</td>\n",
       "      <td>0</td>\n",
       "      <td>0</td>\n",
       "    </tr>\n",
       "    <tr>\n",
       "      <th>2</th>\n",
       "      <td>1807</td>\n",
       "      <td>1</td>\n",
       "      <td>2.8</td>\n",
       "      <td>0</td>\n",
       "      <td>1</td>\n",
       "      <td>0</td>\n",
       "      <td>27</td>\n",
       "      <td>0.9</td>\n",
       "      <td>186</td>\n",
       "      <td>3</td>\n",
       "      <td>4</td>\n",
       "      <td>1270</td>\n",
       "      <td>1366</td>\n",
       "      <td>2396</td>\n",
       "      <td>17</td>\n",
       "      <td>10</td>\n",
       "      <td>10</td>\n",
       "      <td>0</td>\n",
       "      <td>1</td>\n",
       "      <td>1</td>\n",
       "    </tr>\n",
       "    <tr>\n",
       "      <th>3</th>\n",
       "      <td>1546</td>\n",
       "      <td>0</td>\n",
       "      <td>0.5</td>\n",
       "      <td>1</td>\n",
       "      <td>18</td>\n",
       "      <td>1</td>\n",
       "      <td>25</td>\n",
       "      <td>0.5</td>\n",
       "      <td>96</td>\n",
       "      <td>8</td>\n",
       "      <td>20</td>\n",
       "      <td>295</td>\n",
       "      <td>1752</td>\n",
       "      <td>3893</td>\n",
       "      <td>10</td>\n",
       "      <td>0</td>\n",
       "      <td>7</td>\n",
       "      <td>1</td>\n",
       "      <td>1</td>\n",
       "      <td>0</td>\n",
       "    </tr>\n",
       "    <tr>\n",
       "      <th>4</th>\n",
       "      <td>1434</td>\n",
       "      <td>0</td>\n",
       "      <td>1.4</td>\n",
       "      <td>0</td>\n",
       "      <td>11</td>\n",
       "      <td>1</td>\n",
       "      <td>49</td>\n",
       "      <td>0.5</td>\n",
       "      <td>108</td>\n",
       "      <td>6</td>\n",
       "      <td>18</td>\n",
       "      <td>749</td>\n",
       "      <td>810</td>\n",
       "      <td>1773</td>\n",
       "      <td>15</td>\n",
       "      <td>8</td>\n",
       "      <td>7</td>\n",
       "      <td>1</td>\n",
       "      <td>0</td>\n",
       "      <td>1</td>\n",
       "    </tr>\n",
       "  </tbody>\n",
       "</table>\n",
       "</div>"
      ],
      "text/plain": [
       "   battery_power  blue  clock_speed  dual_sim  fc  four_g  int_memory  m_dep  \\\n",
       "0           1043     1          1.8         1  14       0           5    0.1   \n",
       "1            841     1          0.5         1   4       1          61    0.8   \n",
       "2           1807     1          2.8         0   1       0          27    0.9   \n",
       "3           1546     0          0.5         1  18       1          25    0.5   \n",
       "4           1434     0          1.4         0  11       1          49    0.5   \n",
       "\n",
       "   mobile_wt  n_cores  pc  px_height  px_width   ram  sc_h  sc_w  talk_time  \\\n",
       "0        193        3  16        226      1412  3476    12     7          2   \n",
       "1        191        5  12        746       857  3895     6     0          7   \n",
       "2        186        3   4       1270      1366  2396    17    10         10   \n",
       "3         96        8  20        295      1752  3893    10     0          7   \n",
       "4        108        6  18        749       810  1773    15     8          7   \n",
       "\n",
       "   three_g  touch_screen  wifi  \n",
       "0        0             1     0  \n",
       "1        1             0     0  \n",
       "2        0             1     1  \n",
       "3        1             1     0  \n",
       "4        1             0     1  "
      ]
     },
     "execution_count": 64,
     "metadata": {},
     "output_type": "execute_result"
    }
   ],
   "source": [
    "testing_data =testing_data.drop(['Unnamed: 0','Price_Range'],axis=1)\n",
    "testing_data.head()"
   ]
  },
  {
   "cell_type": "code",
   "execution_count": 65,
   "id": "3c6a76fc",
   "metadata": {},
   "outputs": [],
   "source": [
    "testing_data['Price_Range'] =  predicted_price"
   ]
  },
  {
   "cell_type": "code",
   "execution_count": 66,
   "id": "4f70108c",
   "metadata": {},
   "outputs": [
    {
     "data": {
      "text/html": [
       "<div>\n",
       "<style scoped>\n",
       "    .dataframe tbody tr th:only-of-type {\n",
       "        vertical-align: middle;\n",
       "    }\n",
       "\n",
       "    .dataframe tbody tr th {\n",
       "        vertical-align: top;\n",
       "    }\n",
       "\n",
       "    .dataframe thead th {\n",
       "        text-align: right;\n",
       "    }\n",
       "</style>\n",
       "<table border=\"1\" class=\"dataframe\">\n",
       "  <thead>\n",
       "    <tr style=\"text-align: right;\">\n",
       "      <th></th>\n",
       "      <th>battery_power</th>\n",
       "      <th>blue</th>\n",
       "      <th>clock_speed</th>\n",
       "      <th>dual_sim</th>\n",
       "      <th>fc</th>\n",
       "      <th>four_g</th>\n",
       "      <th>int_memory</th>\n",
       "      <th>m_dep</th>\n",
       "      <th>mobile_wt</th>\n",
       "      <th>n_cores</th>\n",
       "      <th>...</th>\n",
       "      <th>px_height</th>\n",
       "      <th>px_width</th>\n",
       "      <th>ram</th>\n",
       "      <th>sc_h</th>\n",
       "      <th>sc_w</th>\n",
       "      <th>talk_time</th>\n",
       "      <th>three_g</th>\n",
       "      <th>touch_screen</th>\n",
       "      <th>wifi</th>\n",
       "      <th>Price_Range</th>\n",
       "    </tr>\n",
       "  </thead>\n",
       "  <tbody>\n",
       "    <tr>\n",
       "      <th>0</th>\n",
       "      <td>1043</td>\n",
       "      <td>1</td>\n",
       "      <td>1.8</td>\n",
       "      <td>1</td>\n",
       "      <td>14</td>\n",
       "      <td>0</td>\n",
       "      <td>5</td>\n",
       "      <td>0.1</td>\n",
       "      <td>193</td>\n",
       "      <td>3</td>\n",
       "      <td>...</td>\n",
       "      <td>226</td>\n",
       "      <td>1412</td>\n",
       "      <td>3476</td>\n",
       "      <td>12</td>\n",
       "      <td>7</td>\n",
       "      <td>2</td>\n",
       "      <td>0</td>\n",
       "      <td>1</td>\n",
       "      <td>0</td>\n",
       "      <td>3</td>\n",
       "    </tr>\n",
       "    <tr>\n",
       "      <th>1</th>\n",
       "      <td>841</td>\n",
       "      <td>1</td>\n",
       "      <td>0.5</td>\n",
       "      <td>1</td>\n",
       "      <td>4</td>\n",
       "      <td>1</td>\n",
       "      <td>61</td>\n",
       "      <td>0.8</td>\n",
       "      <td>191</td>\n",
       "      <td>5</td>\n",
       "      <td>...</td>\n",
       "      <td>746</td>\n",
       "      <td>857</td>\n",
       "      <td>3895</td>\n",
       "      <td>6</td>\n",
       "      <td>0</td>\n",
       "      <td>7</td>\n",
       "      <td>1</td>\n",
       "      <td>0</td>\n",
       "      <td>0</td>\n",
       "      <td>3</td>\n",
       "    </tr>\n",
       "    <tr>\n",
       "      <th>2</th>\n",
       "      <td>1807</td>\n",
       "      <td>1</td>\n",
       "      <td>2.8</td>\n",
       "      <td>0</td>\n",
       "      <td>1</td>\n",
       "      <td>0</td>\n",
       "      <td>27</td>\n",
       "      <td>0.9</td>\n",
       "      <td>186</td>\n",
       "      <td>3</td>\n",
       "      <td>...</td>\n",
       "      <td>1270</td>\n",
       "      <td>1366</td>\n",
       "      <td>2396</td>\n",
       "      <td>17</td>\n",
       "      <td>10</td>\n",
       "      <td>10</td>\n",
       "      <td>0</td>\n",
       "      <td>1</td>\n",
       "      <td>1</td>\n",
       "      <td>3</td>\n",
       "    </tr>\n",
       "    <tr>\n",
       "      <th>3</th>\n",
       "      <td>1546</td>\n",
       "      <td>0</td>\n",
       "      <td>0.5</td>\n",
       "      <td>1</td>\n",
       "      <td>18</td>\n",
       "      <td>1</td>\n",
       "      <td>25</td>\n",
       "      <td>0.5</td>\n",
       "      <td>96</td>\n",
       "      <td>8</td>\n",
       "      <td>...</td>\n",
       "      <td>295</td>\n",
       "      <td>1752</td>\n",
       "      <td>3893</td>\n",
       "      <td>10</td>\n",
       "      <td>0</td>\n",
       "      <td>7</td>\n",
       "      <td>1</td>\n",
       "      <td>1</td>\n",
       "      <td>0</td>\n",
       "      <td>3</td>\n",
       "    </tr>\n",
       "    <tr>\n",
       "      <th>4</th>\n",
       "      <td>1434</td>\n",
       "      <td>0</td>\n",
       "      <td>1.4</td>\n",
       "      <td>0</td>\n",
       "      <td>11</td>\n",
       "      <td>1</td>\n",
       "      <td>49</td>\n",
       "      <td>0.5</td>\n",
       "      <td>108</td>\n",
       "      <td>6</td>\n",
       "      <td>...</td>\n",
       "      <td>749</td>\n",
       "      <td>810</td>\n",
       "      <td>1773</td>\n",
       "      <td>15</td>\n",
       "      <td>8</td>\n",
       "      <td>7</td>\n",
       "      <td>1</td>\n",
       "      <td>0</td>\n",
       "      <td>1</td>\n",
       "      <td>1</td>\n",
       "    </tr>\n",
       "  </tbody>\n",
       "</table>\n",
       "<p>5 rows × 21 columns</p>\n",
       "</div>"
      ],
      "text/plain": [
       "   battery_power  blue  clock_speed  dual_sim  fc  four_g  int_memory  m_dep  \\\n",
       "0           1043     1          1.8         1  14       0           5    0.1   \n",
       "1            841     1          0.5         1   4       1          61    0.8   \n",
       "2           1807     1          2.8         0   1       0          27    0.9   \n",
       "3           1546     0          0.5         1  18       1          25    0.5   \n",
       "4           1434     0          1.4         0  11       1          49    0.5   \n",
       "\n",
       "   mobile_wt  n_cores  ...  px_height  px_width   ram  sc_h  sc_w  talk_time  \\\n",
       "0        193        3  ...        226      1412  3476    12     7          2   \n",
       "1        191        5  ...        746       857  3895     6     0          7   \n",
       "2        186        3  ...       1270      1366  2396    17    10         10   \n",
       "3         96        8  ...        295      1752  3893    10     0          7   \n",
       "4        108        6  ...        749       810  1773    15     8          7   \n",
       "\n",
       "   three_g  touch_screen  wifi  Price_Range  \n",
       "0        0             1     0            3  \n",
       "1        1             0     0            3  \n",
       "2        0             1     1            3  \n",
       "3        1             1     0            3  \n",
       "4        1             0     1            1  \n",
       "\n",
       "[5 rows x 21 columns]"
      ]
     },
     "execution_count": 66,
     "metadata": {},
     "output_type": "execute_result"
    }
   ],
   "source": [
    "testing_data.head()"
   ]
  },
  {
   "cell_type": "code",
   "execution_count": 67,
   "id": "650d19de",
   "metadata": {},
   "outputs": [],
   "source": [
    "testing_data.to_csv('D:/Mobile price prediction/testing_data.csv')"
   ]
  },
  {
   "cell_type": "markdown",
   "id": "3effaa7b",
   "metadata": {},
   "source": [
    "# Importing train dataset to test the algorithm"
   ]
  },
  {
   "cell_type": "code",
   "execution_count": 68,
   "id": "72469528",
   "metadata": {},
   "outputs": [],
   "source": [
    "t1 = pd.read_csv('D:/Mobile price prediction/train.csv')"
   ]
  },
  {
   "cell_type": "markdown",
   "id": "0e18d563",
   "metadata": {},
   "source": [
    "# Creating new dataframe to check the entries of price range"
   ]
  },
  {
   "cell_type": "code",
   "execution_count": 69,
   "id": "5e7ae31b",
   "metadata": {},
   "outputs": [],
   "source": [
    "t2 = t1.drop('price_range',axis=1)"
   ]
  },
  {
   "cell_type": "code",
   "execution_count": 70,
   "id": "c64d6d3b",
   "metadata": {},
   "outputs": [],
   "source": [
    "predicted_price = svm_clf.predict(t2)"
   ]
  },
  {
   "cell_type": "code",
   "execution_count": 71,
   "id": "393a72dc",
   "metadata": {},
   "outputs": [
    {
     "data": {
      "text/plain": [
       "array([1, 2, 2, ..., 3, 0, 3], dtype=int64)"
      ]
     },
     "execution_count": 71,
     "metadata": {},
     "output_type": "execute_result"
    }
   ],
   "source": [
    "predicted_price"
   ]
  },
  {
   "cell_type": "code",
   "execution_count": 72,
   "id": "4e6dd100",
   "metadata": {},
   "outputs": [],
   "source": [
    "t1['Price_Range_svm'] =  predicted_price"
   ]
  },
  {
   "cell_type": "code",
   "execution_count": 73,
   "id": "0dda9513",
   "metadata": {},
   "outputs": [
    {
     "data": {
      "text/html": [
       "<div>\n",
       "<style scoped>\n",
       "    .dataframe tbody tr th:only-of-type {\n",
       "        vertical-align: middle;\n",
       "    }\n",
       "\n",
       "    .dataframe tbody tr th {\n",
       "        vertical-align: top;\n",
       "    }\n",
       "\n",
       "    .dataframe thead th {\n",
       "        text-align: right;\n",
       "    }\n",
       "</style>\n",
       "<table border=\"1\" class=\"dataframe\">\n",
       "  <thead>\n",
       "    <tr style=\"text-align: right;\">\n",
       "      <th></th>\n",
       "      <th>battery_power</th>\n",
       "      <th>blue</th>\n",
       "      <th>clock_speed</th>\n",
       "      <th>dual_sim</th>\n",
       "      <th>fc</th>\n",
       "      <th>four_g</th>\n",
       "      <th>int_memory</th>\n",
       "      <th>m_dep</th>\n",
       "      <th>mobile_wt</th>\n",
       "      <th>n_cores</th>\n",
       "      <th>...</th>\n",
       "      <th>px_width</th>\n",
       "      <th>ram</th>\n",
       "      <th>sc_h</th>\n",
       "      <th>sc_w</th>\n",
       "      <th>talk_time</th>\n",
       "      <th>three_g</th>\n",
       "      <th>touch_screen</th>\n",
       "      <th>wifi</th>\n",
       "      <th>price_range</th>\n",
       "      <th>Price_Range_svm</th>\n",
       "    </tr>\n",
       "  </thead>\n",
       "  <tbody>\n",
       "    <tr>\n",
       "      <th>0</th>\n",
       "      <td>842</td>\n",
       "      <td>0</td>\n",
       "      <td>2.2</td>\n",
       "      <td>0</td>\n",
       "      <td>1</td>\n",
       "      <td>0</td>\n",
       "      <td>7</td>\n",
       "      <td>0.6</td>\n",
       "      <td>188</td>\n",
       "      <td>2</td>\n",
       "      <td>...</td>\n",
       "      <td>756</td>\n",
       "      <td>2549</td>\n",
       "      <td>9</td>\n",
       "      <td>7</td>\n",
       "      <td>19</td>\n",
       "      <td>0</td>\n",
       "      <td>0</td>\n",
       "      <td>1</td>\n",
       "      <td>1</td>\n",
       "      <td>1</td>\n",
       "    </tr>\n",
       "    <tr>\n",
       "      <th>1</th>\n",
       "      <td>1021</td>\n",
       "      <td>1</td>\n",
       "      <td>0.5</td>\n",
       "      <td>1</td>\n",
       "      <td>0</td>\n",
       "      <td>1</td>\n",
       "      <td>53</td>\n",
       "      <td>0.7</td>\n",
       "      <td>136</td>\n",
       "      <td>3</td>\n",
       "      <td>...</td>\n",
       "      <td>1988</td>\n",
       "      <td>2631</td>\n",
       "      <td>17</td>\n",
       "      <td>3</td>\n",
       "      <td>7</td>\n",
       "      <td>1</td>\n",
       "      <td>1</td>\n",
       "      <td>0</td>\n",
       "      <td>2</td>\n",
       "      <td>2</td>\n",
       "    </tr>\n",
       "    <tr>\n",
       "      <th>2</th>\n",
       "      <td>563</td>\n",
       "      <td>1</td>\n",
       "      <td>0.5</td>\n",
       "      <td>1</td>\n",
       "      <td>2</td>\n",
       "      <td>1</td>\n",
       "      <td>41</td>\n",
       "      <td>0.9</td>\n",
       "      <td>145</td>\n",
       "      <td>5</td>\n",
       "      <td>...</td>\n",
       "      <td>1716</td>\n",
       "      <td>2603</td>\n",
       "      <td>11</td>\n",
       "      <td>2</td>\n",
       "      <td>9</td>\n",
       "      <td>1</td>\n",
       "      <td>1</td>\n",
       "      <td>0</td>\n",
       "      <td>2</td>\n",
       "      <td>2</td>\n",
       "    </tr>\n",
       "    <tr>\n",
       "      <th>3</th>\n",
       "      <td>615</td>\n",
       "      <td>1</td>\n",
       "      <td>2.5</td>\n",
       "      <td>0</td>\n",
       "      <td>0</td>\n",
       "      <td>0</td>\n",
       "      <td>10</td>\n",
       "      <td>0.8</td>\n",
       "      <td>131</td>\n",
       "      <td>6</td>\n",
       "      <td>...</td>\n",
       "      <td>1786</td>\n",
       "      <td>2769</td>\n",
       "      <td>16</td>\n",
       "      <td>8</td>\n",
       "      <td>11</td>\n",
       "      <td>1</td>\n",
       "      <td>0</td>\n",
       "      <td>0</td>\n",
       "      <td>2</td>\n",
       "      <td>2</td>\n",
       "    </tr>\n",
       "    <tr>\n",
       "      <th>4</th>\n",
       "      <td>1821</td>\n",
       "      <td>1</td>\n",
       "      <td>1.2</td>\n",
       "      <td>0</td>\n",
       "      <td>13</td>\n",
       "      <td>1</td>\n",
       "      <td>44</td>\n",
       "      <td>0.6</td>\n",
       "      <td>141</td>\n",
       "      <td>2</td>\n",
       "      <td>...</td>\n",
       "      <td>1212</td>\n",
       "      <td>1411</td>\n",
       "      <td>8</td>\n",
       "      <td>2</td>\n",
       "      <td>15</td>\n",
       "      <td>1</td>\n",
       "      <td>1</td>\n",
       "      <td>0</td>\n",
       "      <td>1</td>\n",
       "      <td>1</td>\n",
       "    </tr>\n",
       "  </tbody>\n",
       "</table>\n",
       "<p>5 rows × 22 columns</p>\n",
       "</div>"
      ],
      "text/plain": [
       "   battery_power  blue  clock_speed  dual_sim  fc  four_g  int_memory  m_dep  \\\n",
       "0            842     0          2.2         0   1       0           7    0.6   \n",
       "1           1021     1          0.5         1   0       1          53    0.7   \n",
       "2            563     1          0.5         1   2       1          41    0.9   \n",
       "3            615     1          2.5         0   0       0          10    0.8   \n",
       "4           1821     1          1.2         0  13       1          44    0.6   \n",
       "\n",
       "   mobile_wt  n_cores  ...  px_width   ram  sc_h  sc_w  talk_time  three_g  \\\n",
       "0        188        2  ...       756  2549     9     7         19        0   \n",
       "1        136        3  ...      1988  2631    17     3          7        1   \n",
       "2        145        5  ...      1716  2603    11     2          9        1   \n",
       "3        131        6  ...      1786  2769    16     8         11        1   \n",
       "4        141        2  ...      1212  1411     8     2         15        1   \n",
       "\n",
       "   touch_screen  wifi  price_range  Price_Range_svm  \n",
       "0             0     1            1                1  \n",
       "1             1     0            2                2  \n",
       "2             1     0            2                2  \n",
       "3             0     0            2                2  \n",
       "4             1     0            1                1  \n",
       "\n",
       "[5 rows x 22 columns]"
      ]
     },
     "execution_count": 73,
     "metadata": {},
     "output_type": "execute_result"
    }
   ],
   "source": [
    "t1.head()"
   ]
  },
  {
   "cell_type": "markdown",
   "id": "fa35d5b1",
   "metadata": {},
   "source": [
    "The above two price_range col's are equal so the SVM accuracy is correct"
   ]
  },
  {
   "cell_type": "markdown",
   "id": "63e9a3b4",
   "metadata": {},
   "source": [
    "# To verify the less accuracy algorthims such as ANN,KNN,RF,GNB"
   ]
  },
  {
   "cell_type": "code",
   "execution_count": 74,
   "id": "6d0b3d28",
   "metadata": {},
   "outputs": [],
   "source": [
    "predicted_price_ann = ann.predict(t2)\n",
    "predicted_price_knn = knn.predict(t2)\n",
    "predicted_price_rf = rfc.predict(t2)\n",
    "predicted_price_gnb = gnb.predict(t2)"
   ]
  },
  {
   "cell_type": "code",
   "execution_count": 75,
   "id": "83b7f4da",
   "metadata": {},
   "outputs": [
    {
     "data": {
      "text/plain": [
       "array([1, 2, 2, ..., 3, 0, 3], dtype=int64)"
      ]
     },
     "execution_count": 75,
     "metadata": {},
     "output_type": "execute_result"
    }
   ],
   "source": [
    "predicted_price"
   ]
  },
  {
   "cell_type": "code",
   "execution_count": 76,
   "id": "a0cc63ec",
   "metadata": {},
   "outputs": [],
   "source": [
    "t1['Price_Range_ann'] =  predicted_price_ann\n",
    "t1['Price_Range_knn'] =  predicted_price_knn\n",
    "t1['Price_Range_rf'] =  predicted_price_rf\n",
    "t1['Price_Range_gnb'] =  predicted_price_gnb"
   ]
  },
  {
   "cell_type": "code",
   "execution_count": 77,
   "id": "800bb21c",
   "metadata": {},
   "outputs": [
    {
     "data": {
      "text/html": [
       "<div>\n",
       "<style scoped>\n",
       "    .dataframe tbody tr th:only-of-type {\n",
       "        vertical-align: middle;\n",
       "    }\n",
       "\n",
       "    .dataframe tbody tr th {\n",
       "        vertical-align: top;\n",
       "    }\n",
       "\n",
       "    .dataframe thead th {\n",
       "        text-align: right;\n",
       "    }\n",
       "</style>\n",
       "<table border=\"1\" class=\"dataframe\">\n",
       "  <thead>\n",
       "    <tr style=\"text-align: right;\">\n",
       "      <th></th>\n",
       "      <th>battery_power</th>\n",
       "      <th>blue</th>\n",
       "      <th>clock_speed</th>\n",
       "      <th>dual_sim</th>\n",
       "      <th>fc</th>\n",
       "      <th>four_g</th>\n",
       "      <th>int_memory</th>\n",
       "      <th>m_dep</th>\n",
       "      <th>mobile_wt</th>\n",
       "      <th>n_cores</th>\n",
       "      <th>...</th>\n",
       "      <th>talk_time</th>\n",
       "      <th>three_g</th>\n",
       "      <th>touch_screen</th>\n",
       "      <th>wifi</th>\n",
       "      <th>price_range</th>\n",
       "      <th>Price_Range_svm</th>\n",
       "      <th>Price_Range_ann</th>\n",
       "      <th>Price_Range_knn</th>\n",
       "      <th>Price_Range_rf</th>\n",
       "      <th>Price_Range_gnb</th>\n",
       "    </tr>\n",
       "  </thead>\n",
       "  <tbody>\n",
       "    <tr>\n",
       "      <th>0</th>\n",
       "      <td>842</td>\n",
       "      <td>0</td>\n",
       "      <td>2.2</td>\n",
       "      <td>0</td>\n",
       "      <td>1</td>\n",
       "      <td>0</td>\n",
       "      <td>7</td>\n",
       "      <td>0.6</td>\n",
       "      <td>188</td>\n",
       "      <td>2</td>\n",
       "      <td>...</td>\n",
       "      <td>19</td>\n",
       "      <td>0</td>\n",
       "      <td>0</td>\n",
       "      <td>1</td>\n",
       "      <td>1</td>\n",
       "      <td>1</td>\n",
       "      <td>3</td>\n",
       "      <td>1</td>\n",
       "      <td>2</td>\n",
       "      <td>2</td>\n",
       "    </tr>\n",
       "    <tr>\n",
       "      <th>1</th>\n",
       "      <td>1021</td>\n",
       "      <td>1</td>\n",
       "      <td>0.5</td>\n",
       "      <td>1</td>\n",
       "      <td>0</td>\n",
       "      <td>1</td>\n",
       "      <td>53</td>\n",
       "      <td>0.7</td>\n",
       "      <td>136</td>\n",
       "      <td>3</td>\n",
       "      <td>...</td>\n",
       "      <td>7</td>\n",
       "      <td>1</td>\n",
       "      <td>1</td>\n",
       "      <td>0</td>\n",
       "      <td>2</td>\n",
       "      <td>2</td>\n",
       "      <td>3</td>\n",
       "      <td>2</td>\n",
       "      <td>2</td>\n",
       "      <td>2</td>\n",
       "    </tr>\n",
       "    <tr>\n",
       "      <th>2</th>\n",
       "      <td>563</td>\n",
       "      <td>1</td>\n",
       "      <td>0.5</td>\n",
       "      <td>1</td>\n",
       "      <td>2</td>\n",
       "      <td>1</td>\n",
       "      <td>41</td>\n",
       "      <td>0.9</td>\n",
       "      <td>145</td>\n",
       "      <td>5</td>\n",
       "      <td>...</td>\n",
       "      <td>9</td>\n",
       "      <td>1</td>\n",
       "      <td>1</td>\n",
       "      <td>0</td>\n",
       "      <td>2</td>\n",
       "      <td>2</td>\n",
       "      <td>3</td>\n",
       "      <td>2</td>\n",
       "      <td>2</td>\n",
       "      <td>2</td>\n",
       "    </tr>\n",
       "    <tr>\n",
       "      <th>3</th>\n",
       "      <td>615</td>\n",
       "      <td>1</td>\n",
       "      <td>2.5</td>\n",
       "      <td>0</td>\n",
       "      <td>0</td>\n",
       "      <td>0</td>\n",
       "      <td>10</td>\n",
       "      <td>0.8</td>\n",
       "      <td>131</td>\n",
       "      <td>6</td>\n",
       "      <td>...</td>\n",
       "      <td>11</td>\n",
       "      <td>1</td>\n",
       "      <td>0</td>\n",
       "      <td>0</td>\n",
       "      <td>2</td>\n",
       "      <td>2</td>\n",
       "      <td>3</td>\n",
       "      <td>3</td>\n",
       "      <td>2</td>\n",
       "      <td>2</td>\n",
       "    </tr>\n",
       "    <tr>\n",
       "      <th>4</th>\n",
       "      <td>1821</td>\n",
       "      <td>1</td>\n",
       "      <td>1.2</td>\n",
       "      <td>0</td>\n",
       "      <td>13</td>\n",
       "      <td>1</td>\n",
       "      <td>44</td>\n",
       "      <td>0.6</td>\n",
       "      <td>141</td>\n",
       "      <td>2</td>\n",
       "      <td>...</td>\n",
       "      <td>15</td>\n",
       "      <td>1</td>\n",
       "      <td>1</td>\n",
       "      <td>0</td>\n",
       "      <td>1</td>\n",
       "      <td>1</td>\n",
       "      <td>3</td>\n",
       "      <td>1</td>\n",
       "      <td>1</td>\n",
       "      <td>1</td>\n",
       "    </tr>\n",
       "  </tbody>\n",
       "</table>\n",
       "<p>5 rows × 26 columns</p>\n",
       "</div>"
      ],
      "text/plain": [
       "   battery_power  blue  clock_speed  dual_sim  fc  four_g  int_memory  m_dep  \\\n",
       "0            842     0          2.2         0   1       0           7    0.6   \n",
       "1           1021     1          0.5         1   0       1          53    0.7   \n",
       "2            563     1          0.5         1   2       1          41    0.9   \n",
       "3            615     1          2.5         0   0       0          10    0.8   \n",
       "4           1821     1          1.2         0  13       1          44    0.6   \n",
       "\n",
       "   mobile_wt  n_cores  ...  talk_time  three_g  touch_screen  wifi  \\\n",
       "0        188        2  ...         19        0             0     1   \n",
       "1        136        3  ...          7        1             1     0   \n",
       "2        145        5  ...          9        1             1     0   \n",
       "3        131        6  ...         11        1             0     0   \n",
       "4        141        2  ...         15        1             1     0   \n",
       "\n",
       "   price_range  Price_Range_svm  Price_Range_ann  Price_Range_knn  \\\n",
       "0            1                1                3                1   \n",
       "1            2                2                3                2   \n",
       "2            2                2                3                2   \n",
       "3            2                2                3                3   \n",
       "4            1                1                3                1   \n",
       "\n",
       "   Price_Range_rf  Price_Range_gnb  \n",
       "0               2                2  \n",
       "1               2                2  \n",
       "2               2                2  \n",
       "3               2                2  \n",
       "4               1                1  \n",
       "\n",
       "[5 rows x 26 columns]"
      ]
     },
     "execution_count": 77,
     "metadata": {},
     "output_type": "execute_result"
    }
   ],
   "source": [
    "t1.head()"
   ]
  },
  {
   "cell_type": "markdown",
   "id": "13691573",
   "metadata": {},
   "source": [
    "SVM is the best algorithm to predict the values here. We could the see the varitions in price range columns for ann,knn,rf,gnb."
   ]
  },
  {
   "cell_type": "code",
   "execution_count": null,
   "id": "deff0696",
   "metadata": {},
   "outputs": [],
   "source": []
  },
  {
   "cell_type": "code",
   "execution_count": null,
   "id": "dd1c3efa",
   "metadata": {},
   "outputs": [],
   "source": []
  }
 ],
 "metadata": {
  "kernelspec": {
   "display_name": "Python 3 (ipykernel)",
   "language": "python",
   "name": "python3"
  },
  "language_info": {
   "codemirror_mode": {
    "name": "ipython",
    "version": 3
   },
   "file_extension": ".py",
   "mimetype": "text/x-python",
   "name": "python",
   "nbconvert_exporter": "python",
   "pygments_lexer": "ipython3",
   "version": "3.9.12"
  }
 },
 "nbformat": 4,
 "nbformat_minor": 5
}
